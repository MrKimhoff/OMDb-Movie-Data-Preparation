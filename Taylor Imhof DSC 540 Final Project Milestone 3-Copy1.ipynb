{
 "cells": [
  {
   "cell_type": "markdown",
   "id": "043054bf-c7d1-4358-b766-fbaa657967f6",
   "metadata": {},
   "source": [
    "# Taylor Imhof\n",
    "# Bellevue University | DSC 540\n",
    "# Final Project Milestone 3\n",
    "# 2/20/2022"
   ]
  },
  {
   "cell_type": "markdown",
   "id": "d7a4fd81-4aa5-4b24-b938-70842a0c60e0",
   "metadata": {},
   "source": [
    "## Milestone 3: Cleaning/Formatting Website Data"
   ]
  },
  {
   "cell_type": "markdown",
   "id": "464208aa-2f29-41b2-94d3-a7d321346465",
   "metadata": {},
   "source": [
    "Perform at least 5 data transformation and/or cleansing steps to your website data:\n",
    " - Replace Headers\n",
    " - Format data into a more readable format\n",
    " - Identify outliers and bad data\n",
    " - Find duplicates\n",
    " - Fix casing or inconsistent values\n",
    " - Conduct Fuzzy Matching"
   ]
  },
  {
   "cell_type": "markdown",
   "id": "e2723a2b-5281-4346-9a08-89e1f76b7242",
   "metadata": {},
   "source": [
    "## Import Required Libaries"
   ]
  },
  {
   "cell_type": "code",
   "execution_count": 1,
   "id": "feaf9862-87dd-40b0-af71-d619fe851486",
   "metadata": {},
   "outputs": [],
   "source": [
    "# load libraries\n",
    "import pandas as pd\n",
    "import numpy as np\n",
    "from bs4 import BeautifulSoup\n",
    "import requests\n",
    "from urllib.request import Request, urlopen"
   ]
  },
  {
   "cell_type": "markdown",
   "id": "3752e1be-f8d1-455a-a819-df861045b7b9",
   "metadata": {},
   "source": [
    "## Generate List Of Urls To Scrape Movie Data"
   ]
  },
  {
   "cell_type": "markdown",
   "id": "fb5bce37-f4a0-44d7-b874-cc9dcff5f800",
   "metadata": {},
   "source": [
    "The data on the website I was using (The Numbers) had thousands of records for movie financial data. However, each page would only display 100 movies. In order to scrape multiple pages, I came up with a simply for loop that would create a list of string urls that I could use in a web-scraping utility function."
   ]
  },
  {
   "cell_type": "code",
   "execution_count": 2,
   "id": "9b5eeb60-f28c-46cf-b643-7fa79373cd00",
   "metadata": {},
   "outputs": [
    {
     "data": {
      "text/plain": [
       "['https://www.the-numbers.com/movie/budgets/all',\n",
       " 'https://www.the-numbers.com/movie/budgets/all/101',\n",
       " 'https://www.the-numbers.com/movie/budgets/all/201',\n",
       " 'https://www.the-numbers.com/movie/budgets/all/301',\n",
       " 'https://www.the-numbers.com/movie/budgets/all/401',\n",
       " 'https://www.the-numbers.com/movie/budgets/all/501',\n",
       " 'https://www.the-numbers.com/movie/budgets/all/601',\n",
       " 'https://www.the-numbers.com/movie/budgets/all/701',\n",
       " 'https://www.the-numbers.com/movie/budgets/all/801',\n",
       " 'https://www.the-numbers.com/movie/budgets/all/901',\n",
       " 'https://www.the-numbers.com/movie/budgets/all/1001',\n",
       " 'https://www.the-numbers.com/movie/budgets/all/1101',\n",
       " 'https://www.the-numbers.com/movie/budgets/all/1201',\n",
       " 'https://www.the-numbers.com/movie/budgets/all/1301',\n",
       " 'https://www.the-numbers.com/movie/budgets/all/1401',\n",
       " 'https://www.the-numbers.com/movie/budgets/all/1501',\n",
       " 'https://www.the-numbers.com/movie/budgets/all/1601',\n",
       " 'https://www.the-numbers.com/movie/budgets/all/1701',\n",
       " 'https://www.the-numbers.com/movie/budgets/all/1801',\n",
       " 'https://www.the-numbers.com/movie/budgets/all/1901',\n",
       " 'https://www.the-numbers.com/movie/budgets/all/2001',\n",
       " 'https://www.the-numbers.com/movie/budgets/all/2101',\n",
       " 'https://www.the-numbers.com/movie/budgets/all/2201',\n",
       " 'https://www.the-numbers.com/movie/budgets/all/2301',\n",
       " 'https://www.the-numbers.com/movie/budgets/all/2401',\n",
       " 'https://www.the-numbers.com/movie/budgets/all/2501',\n",
       " 'https://www.the-numbers.com/movie/budgets/all/2601',\n",
       " 'https://www.the-numbers.com/movie/budgets/all/2701',\n",
       " 'https://www.the-numbers.com/movie/budgets/all/2801',\n",
       " 'https://www.the-numbers.com/movie/budgets/all/2901']"
      ]
     },
     "execution_count": 2,
     "metadata": {},
     "output_type": "execute_result"
    }
   ],
   "source": [
    "# use a for loop to generate list of urls to scrape from\n",
    "movie_urls = [\"https://www.the-numbers.com/movie/budgets/all\"]\n",
    "for i in range(101, 3000, 100):\n",
    "    url = \"https://www.the-numbers.com/movie/budgets/all/\" + str(i)\n",
    "    movie_urls.append(url)\n",
    "movie_urls"
   ]
  },
  {
   "cell_type": "markdown",
   "id": "602da301-b50a-4272-8a8a-1f7b22d61989",
   "metadata": {},
   "source": [
    "## Utility Function For Webscraping"
   ]
  },
  {
   "cell_type": "markdown",
   "id": "ff29d8cb-2150-476b-ae8a-c7c1c7fc7342",
   "metadata": {},
   "source": [
    "After manually scraping each webpage for its content, I felt it would be much easier to abstract this process away in its own function. Also, an error that I was running into was 403; I guess the website had some minor security for web-scraping and I needed to pass additional arguments to make it seem like my interactions on their website were from a actual browser.\n",
    "\n",
    "I also learned that since I was using a function for each of the webscraping processes, I couldn't use a library alias (soup) and wound up having to call the actual library name `BeautifulSoup` to create the bs4 objects."
   ]
  },
  {
   "cell_type": "code",
   "execution_count": 3,
   "id": "19619278-42e0-4af0-86f2-bd85116f83fc",
   "metadata": {},
   "outputs": [],
   "source": [
    "# utility function that attempts to access html at url and returns bs4 object\n",
    "def get_soup_obj(url):\n",
    "    \"\"\"\n",
    "    args: a string url\n",
    "    \n",
    "    attempts to request string html from specified url\n",
    "    if success, then the html is opened and read via urllib.urlopen\n",
    "    last, the html string is stored as a bs4 object\n",
    "    \n",
    "    returns: a bs4 soup object\n",
    "    \"\"\"\n",
    "    try:\n",
    "        req = Request(url, headers={'User-Agent': 'Mozilla/5.0'})\n",
    "        content = urlopen(req).read().decode('utf-8')\n",
    "        soup_obj = BeautifulSoup(content, 'html.parser')\n",
    "        return(soup_obj)\n",
    "    except Exception as err:\n",
    "        print('error', type(err))"
   ]
  },
  {
   "cell_type": "markdown",
   "id": "3c825e45-ddbe-4d53-bc43-34f559370026",
   "metadata": {},
   "source": [
    "The easiest solution I found for combining all of the data from the website into a single, consolidated dataframe was to first create individual dataframes for each of the distinct urls. Then, after I had all of them converted into dataframes, I would simply concatenate them together.\n",
    "\n",
    "Fortunately, each page only contained one html table, so scraping the content of each table was relatively painless. I found a really slick for loop implementation to get the content from all the rows tr and get them inserted into each dataframe properly."
   ]
  },
  {
   "cell_type": "code",
   "execution_count": 4,
   "id": "765a2bf1-903a-4513-89fa-c1ecfd0e960d",
   "metadata": {},
   "outputs": [],
   "source": [
    "# utility function to take soup object, store table data, and create data frame\n",
    "def create_data_frame(soup_obj):\n",
    "    \"\"\"\n",
    "    args: bs4 object\n",
    "    \n",
    "    first finds the soup table content\n",
    "    then, an empty list is used to append the headers of each of the table columns\n",
    "    then, a new dataframe is created using the extracted header names\n",
    "    then, a for loop is used to extract all of the table rows data and insert them into the new dataframe\n",
    "    \n",
    "    returns: dataframe of movie finance info\n",
    "    \"\"\"\n",
    "    table = soup_obj.find('table')\n",
    "    \n",
    "    # get table headers\n",
    "    headers=[] # empty list to store table headers\n",
    "    for i in table.find_all('th'):\n",
    "        title = i.text\n",
    "        headers.append(title)\n",
    "        \n",
    "    # create new df from headers\n",
    "    df = pd.DataFrame(columns=headers)\n",
    "    \n",
    "    # fill df rows with tr from soup.table.tr\n",
    "    for j in table.find_all('tr')[1:]:\n",
    "        row_data = j.find_all('td')\n",
    "        row = [i.text for i in row_data]\n",
    "        length = len(df)\n",
    "        df.loc[length] = row\n",
    "        \n",
    "    return df"
   ]
  },
  {
   "cell_type": "code",
   "execution_count": 5,
   "id": "71e86b68-7669-4318-bb03-28c8c5dc2109",
   "metadata": {},
   "outputs": [],
   "source": [
    "# create empty list to store dataframes created via utilty fucntions\n",
    "df_list = []\n",
    "\n",
    "# iterate across each distinct url and attempt to create df\n",
    "for url in movie_urls:\n",
    "    soup = get_soup_obj(url) # create new soup object\n",
    "    df = create_data_frame(soup) # create new dataframe on soup table data\n",
    "    df_list.append(df) # add each newly created dataframe to list of dataframes"
   ]
  },
  {
   "cell_type": "code",
   "execution_count": 6,
   "id": "4269afeb-38cd-4971-ba33-daabcf4ab302",
   "metadata": {},
   "outputs": [
    {
     "data": {
      "text/plain": [
       "30"
      ]
     },
     "execution_count": 6,
     "metadata": {},
     "output_type": "execute_result"
    }
   ],
   "source": [
    "# check length of dataframe list to ensure 30 dfs were created\n",
    "len(df_list)"
   ]
  },
  {
   "cell_type": "code",
   "execution_count": 7,
   "id": "0049795a-f01b-475c-b8f6-91ceaf6e7aa0",
   "metadata": {},
   "outputs": [
    {
     "data": {
      "text/html": [
       "<div>\n",
       "<style scoped>\n",
       "    .dataframe tbody tr th:only-of-type {\n",
       "        vertical-align: middle;\n",
       "    }\n",
       "\n",
       "    .dataframe tbody tr th {\n",
       "        vertical-align: top;\n",
       "    }\n",
       "\n",
       "    .dataframe thead th {\n",
       "        text-align: right;\n",
       "    }\n",
       "</style>\n",
       "<table border=\"1\" class=\"dataframe\">\n",
       "  <thead>\n",
       "    <tr style=\"text-align: right;\">\n",
       "      <th></th>\n",
       "      <th></th>\n",
       "      <th>ReleaseDate</th>\n",
       "      <th>Movie</th>\n",
       "      <th>ProductionBudget</th>\n",
       "      <th>DomesticGross</th>\n",
       "      <th>WorldwideGross</th>\n",
       "    </tr>\n",
       "  </thead>\n",
       "  <tbody>\n",
       "    <tr>\n",
       "      <th>0</th>\n",
       "      <td>1</td>\n",
       "      <td>Apr 23, 2019</td>\n",
       "      <td>Avengers: Endgame</td>\n",
       "      <td>$400,000,000</td>\n",
       "      <td>$858,373,000</td>\n",
       "      <td>$2,797,800,564</td>\n",
       "    </tr>\n",
       "    <tr>\n",
       "      <th>1</th>\n",
       "      <td>2</td>\n",
       "      <td>May 20, 2011</td>\n",
       "      <td>Pirates of the Caribbean: On Stranger Tides</td>\n",
       "      <td>$379,000,000</td>\n",
       "      <td>$241,071,802</td>\n",
       "      <td>$1,045,713,802</td>\n",
       "    </tr>\n",
       "    <tr>\n",
       "      <th>2</th>\n",
       "      <td>3</td>\n",
       "      <td>Apr 22, 2015</td>\n",
       "      <td>Avengers: Age of Ultron</td>\n",
       "      <td>$365,000,000</td>\n",
       "      <td>$459,005,868</td>\n",
       "      <td>$1,395,316,979</td>\n",
       "    </tr>\n",
       "    <tr>\n",
       "      <th>3</th>\n",
       "      <td>4</td>\n",
       "      <td>Dec 16, 2015</td>\n",
       "      <td>Star Wars Ep. VII: The Force Awakens</td>\n",
       "      <td>$306,000,000</td>\n",
       "      <td>$936,662,225</td>\n",
       "      <td>$2,064,615,817</td>\n",
       "    </tr>\n",
       "    <tr>\n",
       "      <th>4</th>\n",
       "      <td>5</td>\n",
       "      <td>Apr 25, 2018</td>\n",
       "      <td>Avengers: Infinity War</td>\n",
       "      <td>$300,000,000</td>\n",
       "      <td>$678,815,482</td>\n",
       "      <td>$2,048,359,754</td>\n",
       "    </tr>\n",
       "  </tbody>\n",
       "</table>\n",
       "</div>"
      ],
      "text/plain": [
       "       ReleaseDate                                        Movie  \\\n",
       "0  1  Apr 23, 2019                            Avengers: Endgame   \n",
       "1  2  May 20, 2011  Pirates of the Caribbean: On Stranger Tides   \n",
       "2  3  Apr 22, 2015                      Avengers: Age of Ultron   \n",
       "3  4  Dec 16, 2015         Star Wars Ep. VII: The Force Awakens   \n",
       "4  5  Apr 25, 2018                       Avengers: Infinity War   \n",
       "\n",
       "  ProductionBudget  DomesticGross   WorldwideGross  \n",
       "0     $400,000,000   $858,373,000   $2,797,800,564  \n",
       "1     $379,000,000   $241,071,802   $1,045,713,802  \n",
       "2     $365,000,000   $459,005,868   $1,395,316,979  \n",
       "3     $306,000,000   $936,662,225   $2,064,615,817  \n",
       "4     $300,000,000   $678,815,482   $2,048,359,754  "
      ]
     },
     "execution_count": 7,
     "metadata": {},
     "output_type": "execute_result"
    }
   ],
   "source": [
    "# merge list of dataframes together via pd.concat()\n",
    "merged = pd.concat(df_list)\n",
    "merged.head()"
   ]
  },
  {
   "cell_type": "code",
   "execution_count": 8,
   "id": "e8e0bb51-f6de-44b7-82c1-3255ebddaebc",
   "metadata": {},
   "outputs": [
    {
     "name": "stdout",
     "output_type": "stream",
     "text": [
      "<class 'pandas.core.frame.DataFrame'>\n",
      "Int64Index: 3000 entries, 0 to 99\n",
      "Data columns (total 6 columns):\n",
      " #   Column            Non-Null Count  Dtype \n",
      "---  ------            --------------  ----- \n",
      " 0                     3000 non-null   object\n",
      " 1   ReleaseDate       3000 non-null   object\n",
      " 2   Movie             3000 non-null   object\n",
      " 3   ProductionBudget  3000 non-null   object\n",
      " 4   DomesticGross     3000 non-null   object\n",
      " 5   WorldwideGross    3000 non-null   object\n",
      "dtypes: object(6)\n",
      "memory usage: 164.1+ KB\n",
      "None\n"
     ]
    }
   ],
   "source": [
    "# display info to see dimensions and dtypes\n",
    "print(merged.info())"
   ]
  },
  {
   "cell_type": "markdown",
   "id": "79af52ed-3cad-4772-bb28-5c90d475bdde",
   "metadata": {},
   "source": [
    "## Drop Redundant Columns (index)"
   ]
  },
  {
   "cell_type": "markdown",
   "id": "40f22bba-a962-4d1b-a79a-523020343950",
   "metadata": {},
   "source": [
    "After scraping the webpage(s) for their table content, when I created the dataframes it looks like an additional index column was produced. I simply dropped this column using the pd.drop() syntax, passing in the desired column to drop (df.columns[0])"
   ]
  },
  {
   "cell_type": "code",
   "execution_count": 9,
   "id": "a2c57916-8316-4824-8167-f48333b5d8d7",
   "metadata": {},
   "outputs": [
    {
     "data": {
      "text/html": [
       "<div>\n",
       "<style scoped>\n",
       "    .dataframe tbody tr th:only-of-type {\n",
       "        vertical-align: middle;\n",
       "    }\n",
       "\n",
       "    .dataframe tbody tr th {\n",
       "        vertical-align: top;\n",
       "    }\n",
       "\n",
       "    .dataframe thead th {\n",
       "        text-align: right;\n",
       "    }\n",
       "</style>\n",
       "<table border=\"1\" class=\"dataframe\">\n",
       "  <thead>\n",
       "    <tr style=\"text-align: right;\">\n",
       "      <th></th>\n",
       "      <th>ReleaseDate</th>\n",
       "      <th>Movie</th>\n",
       "      <th>ProductionBudget</th>\n",
       "      <th>DomesticGross</th>\n",
       "      <th>WorldwideGross</th>\n",
       "    </tr>\n",
       "  </thead>\n",
       "  <tbody>\n",
       "    <tr>\n",
       "      <th>0</th>\n",
       "      <td>Apr 23, 2019</td>\n",
       "      <td>Avengers: Endgame</td>\n",
       "      <td>$400,000,000</td>\n",
       "      <td>$858,373,000</td>\n",
       "      <td>$2,797,800,564</td>\n",
       "    </tr>\n",
       "    <tr>\n",
       "      <th>1</th>\n",
       "      <td>May 20, 2011</td>\n",
       "      <td>Pirates of the Caribbean: On Stranger Tides</td>\n",
       "      <td>$379,000,000</td>\n",
       "      <td>$241,071,802</td>\n",
       "      <td>$1,045,713,802</td>\n",
       "    </tr>\n",
       "    <tr>\n",
       "      <th>2</th>\n",
       "      <td>Apr 22, 2015</td>\n",
       "      <td>Avengers: Age of Ultron</td>\n",
       "      <td>$365,000,000</td>\n",
       "      <td>$459,005,868</td>\n",
       "      <td>$1,395,316,979</td>\n",
       "    </tr>\n",
       "    <tr>\n",
       "      <th>3</th>\n",
       "      <td>Dec 16, 2015</td>\n",
       "      <td>Star Wars Ep. VII: The Force Awakens</td>\n",
       "      <td>$306,000,000</td>\n",
       "      <td>$936,662,225</td>\n",
       "      <td>$2,064,615,817</td>\n",
       "    </tr>\n",
       "    <tr>\n",
       "      <th>4</th>\n",
       "      <td>Apr 25, 2018</td>\n",
       "      <td>Avengers: Infinity War</td>\n",
       "      <td>$300,000,000</td>\n",
       "      <td>$678,815,482</td>\n",
       "      <td>$2,048,359,754</td>\n",
       "    </tr>\n",
       "  </tbody>\n",
       "</table>\n",
       "</div>"
      ],
      "text/plain": [
       "    ReleaseDate                                        Movie ProductionBudget  \\\n",
       "0  Apr 23, 2019                            Avengers: Endgame     $400,000,000   \n",
       "1  May 20, 2011  Pirates of the Caribbean: On Stranger Tides     $379,000,000   \n",
       "2  Apr 22, 2015                      Avengers: Age of Ultron     $365,000,000   \n",
       "3  Dec 16, 2015         Star Wars Ep. VII: The Force Awakens     $306,000,000   \n",
       "4  Apr 25, 2018                       Avengers: Infinity War     $300,000,000   \n",
       "\n",
       "   DomesticGross   WorldwideGross  \n",
       "0   $858,373,000   $2,797,800,564  \n",
       "1   $241,071,802   $1,045,713,802  \n",
       "2   $459,005,868   $1,395,316,979  \n",
       "3   $936,662,225   $2,064,615,817  \n",
       "4   $678,815,482   $2,048,359,754  "
      ]
     },
     "execution_count": 9,
     "metadata": {},
     "output_type": "execute_result"
    }
   ],
   "source": [
    "# drop redundant index column\n",
    "merged.drop(columns=merged.columns[0],\n",
    "           axis=1,\n",
    "           inplace=True)\n",
    "merged.head() # check to ensure correct column was dropped successfully"
   ]
  },
  {
   "cell_type": "markdown",
   "id": "29ff5d32-7179-4a8f-9541-b845eb6567d8",
   "metadata": {},
   "source": [
    "## Rename Columns/Headers"
   ]
  },
  {
   "cell_type": "markdown",
   "id": "74b4ff8c-b5c6-4397-9897-f474643e0701",
   "metadata": {},
   "source": [
    "In order to keep with the naming conventions of my flat file headers, I decided to make all of the headers lowercase. Also, if the headers contained more than one word, I separated them with an underscore"
   ]
  },
  {
   "cell_type": "code",
   "execution_count": 10,
   "id": "8d2e9885-99e2-4ee0-b507-bc9e0866a009",
   "metadata": {},
   "outputs": [
    {
     "data": {
      "text/html": [
       "<div>\n",
       "<style scoped>\n",
       "    .dataframe tbody tr th:only-of-type {\n",
       "        vertical-align: middle;\n",
       "    }\n",
       "\n",
       "    .dataframe tbody tr th {\n",
       "        vertical-align: top;\n",
       "    }\n",
       "\n",
       "    .dataframe thead th {\n",
       "        text-align: right;\n",
       "    }\n",
       "</style>\n",
       "<table border=\"1\" class=\"dataframe\">\n",
       "  <thead>\n",
       "    <tr style=\"text-align: right;\">\n",
       "      <th></th>\n",
       "      <th>release_date</th>\n",
       "      <th>title</th>\n",
       "      <th>production_budget</th>\n",
       "      <th>domestic_gross</th>\n",
       "      <th>worldwide_gross</th>\n",
       "    </tr>\n",
       "  </thead>\n",
       "  <tbody>\n",
       "    <tr>\n",
       "      <th>0</th>\n",
       "      <td>Apr 23, 2019</td>\n",
       "      <td>Avengers: Endgame</td>\n",
       "      <td>$400,000,000</td>\n",
       "      <td>$858,373,000</td>\n",
       "      <td>$2,797,800,564</td>\n",
       "    </tr>\n",
       "    <tr>\n",
       "      <th>1</th>\n",
       "      <td>May 20, 2011</td>\n",
       "      <td>Pirates of the Caribbean: On Stranger Tides</td>\n",
       "      <td>$379,000,000</td>\n",
       "      <td>$241,071,802</td>\n",
       "      <td>$1,045,713,802</td>\n",
       "    </tr>\n",
       "    <tr>\n",
       "      <th>2</th>\n",
       "      <td>Apr 22, 2015</td>\n",
       "      <td>Avengers: Age of Ultron</td>\n",
       "      <td>$365,000,000</td>\n",
       "      <td>$459,005,868</td>\n",
       "      <td>$1,395,316,979</td>\n",
       "    </tr>\n",
       "    <tr>\n",
       "      <th>3</th>\n",
       "      <td>Dec 16, 2015</td>\n",
       "      <td>Star Wars Ep. VII: The Force Awakens</td>\n",
       "      <td>$306,000,000</td>\n",
       "      <td>$936,662,225</td>\n",
       "      <td>$2,064,615,817</td>\n",
       "    </tr>\n",
       "    <tr>\n",
       "      <th>4</th>\n",
       "      <td>Apr 25, 2018</td>\n",
       "      <td>Avengers: Infinity War</td>\n",
       "      <td>$300,000,000</td>\n",
       "      <td>$678,815,482</td>\n",
       "      <td>$2,048,359,754</td>\n",
       "    </tr>\n",
       "  </tbody>\n",
       "</table>\n",
       "</div>"
      ],
      "text/plain": [
       "   release_date                                        title  \\\n",
       "0  Apr 23, 2019                            Avengers: Endgame   \n",
       "1  May 20, 2011  Pirates of the Caribbean: On Stranger Tides   \n",
       "2  Apr 22, 2015                      Avengers: Age of Ultron   \n",
       "3  Dec 16, 2015         Star Wars Ep. VII: The Force Awakens   \n",
       "4  Apr 25, 2018                       Avengers: Infinity War   \n",
       "\n",
       "  production_budget domestic_gross  worldwide_gross  \n",
       "0      $400,000,000   $858,373,000   $2,797,800,564  \n",
       "1      $379,000,000   $241,071,802   $1,045,713,802  \n",
       "2      $365,000,000   $459,005,868   $1,395,316,979  \n",
       "3      $306,000,000   $936,662,225   $2,064,615,817  \n",
       "4      $300,000,000   $678,815,482   $2,048,359,754  "
      ]
     },
     "execution_count": 10,
     "metadata": {},
     "output_type": "execute_result"
    }
   ],
   "source": [
    "rename_cols = merged.rename({'ReleaseDate' : 'release_date',\n",
    "                            'Movie' : 'title',\n",
    "                            'ProductionBudget' : 'production_budget',\n",
    "                            'DomesticGross' : 'domestic_gross',\n",
    "                            'WorldwideGross' : 'worldwide_gross'}, axis=1)\n",
    "rename_cols.head()"
   ]
  },
  {
   "cell_type": "markdown",
   "id": "39db818b-40be-4c15-a09b-81b27dc1b0c9",
   "metadata": {},
   "source": [
    "## Convert Data Types (String to Float)"
   ]
  },
  {
   "cell_type": "markdown",
   "id": "3d35757a-df88-4f89-b478-54041534bde7",
   "metadata": {},
   "source": [
    "The main reason that I wanted to use this data was to analyze the relationship between a movie's production budget and how much money they were able to collect at the box office. Also, in tandem with my flat-file data, I wanted to see if these values had any relatioship with the movie's IMDb rating (or other rating system I could gather).\n",
    "\n",
    "Because the values contained in all of the money columns contained dollar signs and commas, they were encoded as strings/objects by default. "
   ]
  },
  {
   "cell_type": "code",
   "execution_count": 11,
   "id": "e58034d5-4b84-4eab-a1dd-66161dcca966",
   "metadata": {},
   "outputs": [
    {
     "data": {
      "text/plain": [
       "release_date         object\n",
       "title                object\n",
       "production_budget    object\n",
       "domestic_gross       object\n",
       "worldwide_gross      object\n",
       "dtype: object"
      ]
     },
     "execution_count": 11,
     "metadata": {},
     "output_type": "execute_result"
    }
   ],
   "source": [
    "# check column dtypes to see if there is any conversion necessary\n",
    "rename_cols.dtypes"
   ]
  },
  {
   "cell_type": "code",
   "execution_count": 12,
   "id": "5d00cecd-a100-4a00-92e2-daec582ccbca",
   "metadata": {},
   "outputs": [],
   "source": [
    "# utility function to clean currency containing commas and dollar signs and converts to float type\n",
    "def clean_currency(x):\n",
    "    \"\"\"\n",
    "    args: string containing unclean currency value\n",
    "    \n",
    "    checks if arg is a string\n",
    "    if it is a string, then first all dollar signs are replaced with empty string\n",
    "    then, if all commas are replaced with an empty string\n",
    "    \n",
    "    returns: cleaned currency value as float\n",
    "    \"\"\"\n",
    "    if isinstance(x, str):\n",
    "        return(x.replace('$', '').replace(',', ''))    \n",
    "    return(x)"
   ]
  },
  {
   "cell_type": "code",
   "execution_count": 13,
   "id": "e6fdd80c-1497-4379-81a5-5549b29f2b37",
   "metadata": {},
   "outputs": [
    {
     "data": {
      "text/plain": [
       "release_date          object\n",
       "title                 object\n",
       "production_budget    float64\n",
       "domestic_gross       float64\n",
       "worldwide_gross      float64\n",
       "dtype: object"
      ]
     },
     "execution_count": 13,
     "metadata": {},
     "output_type": "execute_result"
    }
   ],
   "source": [
    "# create copy to perserve og df\n",
    "cleaned_currency = rename_cols.copy()\n",
    "\n",
    "# use utility function for all currency values in each of the currency columns\n",
    "cleaned_currency['production_budget'] = cleaned_currency['production_budget'].apply(clean_currency).astype(float)\n",
    "cleaned_currency['domestic_gross'] = cleaned_currency['domestic_gross'].apply(clean_currency).astype(float)\n",
    "cleaned_currency['worldwide_gross'] = cleaned_currency['worldwide_gross'].apply(clean_currency).astype(float)\n",
    "\n",
    "# check dtypes to ensure column values were converted to floats successfully\n",
    "cleaned_currency.dtypes"
   ]
  },
  {
   "cell_type": "markdown",
   "id": "b33f2f12-c196-410c-aaae-193db74e5478",
   "metadata": {},
   "source": [
    "## Check For Missing Or Null Values"
   ]
  },
  {
   "cell_type": "code",
   "execution_count": 14,
   "id": "3d35aad7-5952-43e6-8eed-c8613f184dfb",
   "metadata": {},
   "outputs": [
    {
     "data": {
      "text/plain": [
       "release_date         0\n",
       "title                0\n",
       "production_budget    0\n",
       "domestic_gross       0\n",
       "worldwide_gross      0\n",
       "dtype: int64"
      ]
     },
     "execution_count": 14,
     "metadata": {},
     "output_type": "execute_result"
    }
   ],
   "source": [
    "# check for missing vlaues\n",
    "cleaned_currency.isnull().sum()"
   ]
  },
  {
   "cell_type": "markdown",
   "id": "8745431f-724e-45f2-a5e0-8d6dcc538bbe",
   "metadata": {},
   "source": [
    "There does not appear to be any missing values in this dataframe!"
   ]
  },
  {
   "cell_type": "markdown",
   "id": "f2f28715-0249-4068-8822-6f299cbc6a88",
   "metadata": {},
   "source": [
    "## Check For Duplicate Values"
   ]
  },
  {
   "cell_type": "code",
   "execution_count": 15,
   "id": "1659ed10-5d42-4821-b44c-5b642909a347",
   "metadata": {},
   "outputs": [
    {
     "data": {
      "text/plain": [
       "False    3000\n",
       "dtype: int64"
      ]
     },
     "execution_count": 15,
     "metadata": {},
     "output_type": "execute_result"
    }
   ],
   "source": [
    "# check for duplicate values\n",
    "dupes = cleaned_currency.duplicated()\n",
    "dupes.value_counts()"
   ]
  },
  {
   "cell_type": "markdown",
   "id": "58ae5ef8-5c14-4a9b-8dae-d29c6d7be37e",
   "metadata": {},
   "source": [
    "There does not appear to be any duplicate values in this dataframe!"
   ]
  },
  {
   "cell_type": "markdown",
   "id": "065074a0-b478-4886-abd7-0340ae8bc35c",
   "metadata": {},
   "source": [
    "## View Final Cleaned Website Dataframe"
   ]
  },
  {
   "cell_type": "code",
   "execution_count": 16,
   "id": "099690a1-4b11-4d16-8279-8ea6cd5ce70d",
   "metadata": {},
   "outputs": [
    {
     "name": "stdout",
     "output_type": "stream",
     "text": [
      "(3000, 5)\n"
     ]
    },
    {
     "data": {
      "text/html": [
       "<div>\n",
       "<style scoped>\n",
       "    .dataframe tbody tr th:only-of-type {\n",
       "        vertical-align: middle;\n",
       "    }\n",
       "\n",
       "    .dataframe tbody tr th {\n",
       "        vertical-align: top;\n",
       "    }\n",
       "\n",
       "    .dataframe thead th {\n",
       "        text-align: right;\n",
       "    }\n",
       "</style>\n",
       "<table border=\"1\" class=\"dataframe\">\n",
       "  <thead>\n",
       "    <tr style=\"text-align: right;\">\n",
       "      <th></th>\n",
       "      <th>release_date</th>\n",
       "      <th>title</th>\n",
       "      <th>production_budget</th>\n",
       "      <th>domestic_gross</th>\n",
       "      <th>worldwide_gross</th>\n",
       "    </tr>\n",
       "  </thead>\n",
       "  <tbody>\n",
       "    <tr>\n",
       "      <th>0</th>\n",
       "      <td>Apr 23, 2019</td>\n",
       "      <td>Avengers: Endgame</td>\n",
       "      <td>400000000.0</td>\n",
       "      <td>858373000.0</td>\n",
       "      <td>2.797801e+09</td>\n",
       "    </tr>\n",
       "    <tr>\n",
       "      <th>1</th>\n",
       "      <td>May 20, 2011</td>\n",
       "      <td>Pirates of the Caribbean: On Stranger Tides</td>\n",
       "      <td>379000000.0</td>\n",
       "      <td>241071802.0</td>\n",
       "      <td>1.045714e+09</td>\n",
       "    </tr>\n",
       "    <tr>\n",
       "      <th>2</th>\n",
       "      <td>Apr 22, 2015</td>\n",
       "      <td>Avengers: Age of Ultron</td>\n",
       "      <td>365000000.0</td>\n",
       "      <td>459005868.0</td>\n",
       "      <td>1.395317e+09</td>\n",
       "    </tr>\n",
       "    <tr>\n",
       "      <th>3</th>\n",
       "      <td>Dec 16, 2015</td>\n",
       "      <td>Star Wars Ep. VII: The Force Awakens</td>\n",
       "      <td>306000000.0</td>\n",
       "      <td>936662225.0</td>\n",
       "      <td>2.064616e+09</td>\n",
       "    </tr>\n",
       "    <tr>\n",
       "      <th>4</th>\n",
       "      <td>Apr 25, 2018</td>\n",
       "      <td>Avengers: Infinity War</td>\n",
       "      <td>300000000.0</td>\n",
       "      <td>678815482.0</td>\n",
       "      <td>2.048360e+09</td>\n",
       "    </tr>\n",
       "  </tbody>\n",
       "</table>\n",
       "</div>"
      ],
      "text/plain": [
       "   release_date                                        title  \\\n",
       "0  Apr 23, 2019                            Avengers: Endgame   \n",
       "1  May 20, 2011  Pirates of the Caribbean: On Stranger Tides   \n",
       "2  Apr 22, 2015                      Avengers: Age of Ultron   \n",
       "3  Dec 16, 2015         Star Wars Ep. VII: The Force Awakens   \n",
       "4  Apr 25, 2018                       Avengers: Infinity War   \n",
       "\n",
       "   production_budget  domestic_gross  worldwide_gross  \n",
       "0        400000000.0     858373000.0     2.797801e+09  \n",
       "1        379000000.0     241071802.0     1.045714e+09  \n",
       "2        365000000.0     459005868.0     1.395317e+09  \n",
       "3        306000000.0     936662225.0     2.064616e+09  \n",
       "4        300000000.0     678815482.0     2.048360e+09  "
      ]
     },
     "execution_count": 16,
     "metadata": {},
     "output_type": "execute_result"
    }
   ],
   "source": [
    "# display final clean data frame head()\n",
    "cleaned_website_df = cleaned_currency.copy()\n",
    "print(cleaned_website_df.shape)\n",
    "cleaned_website_df.head()"
   ]
  },
  {
   "cell_type": "code",
   "execution_count": 17,
   "id": "6292c9c4-909e-4ce4-8c66-d3531d493434",
   "metadata": {},
   "outputs": [],
   "source": [
    "# create .csv from dataframe for use in another notebook/project step\n",
    "cleaned_website_df.to_csv('cleaned_webiste_data.csv')"
   ]
  },
  {
   "cell_type": "code",
   "execution_count": 18,
   "id": "85e14f6e-c14d-4cd9-9c56-18de10802f75",
   "metadata": {},
   "outputs": [],
   "source": [
    "# create csv from clean df for use in other notebook\n",
    "cleaned_website_df.to_csv('final_website_df.csv')"
   ]
  }
 ],
 "metadata": {
  "kernelspec": {
   "display_name": "Python 3",
   "language": "python",
   "name": "python3"
  },
  "language_info": {
   "codemirror_mode": {
    "name": "ipython",
    "version": 3
   },
   "file_extension": ".py",
   "mimetype": "text/x-python",
   "name": "python",
   "nbconvert_exporter": "python",
   "pygments_lexer": "ipython3",
   "version": "3.8.8"
  }
 },
 "nbformat": 4,
 "nbformat_minor": 5
}
