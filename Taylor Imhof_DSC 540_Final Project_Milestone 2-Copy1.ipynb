{
 "cells": [
  {
   "cell_type": "markdown",
   "id": "6958d6f8",
   "metadata": {},
   "source": [
    "## Taylor Imhof\n",
    "## Bellevue University | DSC 540\n",
    "## Final Project: Milestone 2\n",
    "## 2/1/2022"
   ]
  },
  {
   "cell_type": "markdown",
   "id": "ecd58ead",
   "metadata": {},
   "source": [
    "### Cleaning/Formatting Flat File Source"
   ]
  },
  {
   "cell_type": "markdown",
   "id": "554b4d16",
   "metadata": {},
   "source": [
    "#### Requirements: Perform at least five data transformation and/or cleansing steps to flat file data.\n",
    "#### Goal: Clean dataset at the end of the milestone"
   ]
  },
  {
   "cell_type": "code",
   "execution_count": 1,
   "id": "b1a82be2",
   "metadata": {},
   "outputs": [],
   "source": [
    "# import required libraries\n",
    "import pandas as pd\n",
    "import numpy as np"
   ]
  },
  {
   "cell_type": "markdown",
   "id": "ab87e78f",
   "metadata": {},
   "source": [
    "#### (1) Read into flat files (.tsv) to Pandas dataframe"
   ]
  },
  {
   "cell_type": "markdown",
   "id": "0ef0c957",
   "metadata": {},
   "source": [
    "For my flat file(s), I found two from IMDb interfaces that I believed would be useful for analysis. The first tsv file `title_basics.tsv` contained general movie/TV information such as release year, runtime, genre, and title. However, this dataset did not contain any rating metrics so I decided it would be prudent to combine it with another dataset `title_ratings.tsv` provided from the same set of IMDb interfaces. Since both datasets contained a unique identifier variable `tconst`, I felt it would be easy enough to combine these two after reading them into Pandas dataframes.\n",
    "\n",
    "Reading in the two dataframes was straightforward, as I was able to make use of Pandas' `read_csv()` method, passing in an additional `sep` argument as the files are tab-separated versus the typical comma-separated."
   ]
  },
  {
   "cell_type": "code",
   "execution_count": 2,
   "id": "ba8f22b3",
   "metadata": {},
   "outputs": [
    {
     "name": "stderr",
     "output_type": "stream",
     "text": [
      "C:\\Users\\taylo\\anaconda3\\lib\\site-packages\\IPython\\core\\interactiveshell.py:3437: DtypeWarning: Columns (7) have mixed types.Specify dtype option on import or set low_memory=False.\n",
      "  exec(code_obj, self.user_global_ns, self.user_ns)\n"
     ]
    },
    {
     "data": {
      "text/html": [
       "<div>\n",
       "<style scoped>\n",
       "    .dataframe tbody tr th:only-of-type {\n",
       "        vertical-align: middle;\n",
       "    }\n",
       "\n",
       "    .dataframe tbody tr th {\n",
       "        vertical-align: top;\n",
       "    }\n",
       "\n",
       "    .dataframe thead th {\n",
       "        text-align: right;\n",
       "    }\n",
       "</style>\n",
       "<table border=\"1\" class=\"dataframe\">\n",
       "  <thead>\n",
       "    <tr style=\"text-align: right;\">\n",
       "      <th></th>\n",
       "      <th>tconst</th>\n",
       "      <th>titleType</th>\n",
       "      <th>primaryTitle</th>\n",
       "      <th>originalTitle</th>\n",
       "      <th>isAdult</th>\n",
       "      <th>startYear</th>\n",
       "      <th>endYear</th>\n",
       "      <th>runtimeMinutes</th>\n",
       "      <th>genres</th>\n",
       "    </tr>\n",
       "  </thead>\n",
       "  <tbody>\n",
       "    <tr>\n",
       "      <th>0</th>\n",
       "      <td>tt0000001</td>\n",
       "      <td>short</td>\n",
       "      <td>Carmencita</td>\n",
       "      <td>Carmencita</td>\n",
       "      <td>0.0</td>\n",
       "      <td>1894.0</td>\n",
       "      <td>NaN</td>\n",
       "      <td>1.0</td>\n",
       "      <td>Documentary,Short</td>\n",
       "    </tr>\n",
       "    <tr>\n",
       "      <th>1</th>\n",
       "      <td>tt0000002</td>\n",
       "      <td>short</td>\n",
       "      <td>Le clown et ses chiens</td>\n",
       "      <td>Le clown et ses chiens</td>\n",
       "      <td>0.0</td>\n",
       "      <td>1892.0</td>\n",
       "      <td>NaN</td>\n",
       "      <td>5.0</td>\n",
       "      <td>Animation,Short</td>\n",
       "    </tr>\n",
       "    <tr>\n",
       "      <th>2</th>\n",
       "      <td>tt0000003</td>\n",
       "      <td>short</td>\n",
       "      <td>Pauvre Pierrot</td>\n",
       "      <td>Pauvre Pierrot</td>\n",
       "      <td>0.0</td>\n",
       "      <td>1892.0</td>\n",
       "      <td>NaN</td>\n",
       "      <td>4.0</td>\n",
       "      <td>Animation,Comedy,Romance</td>\n",
       "    </tr>\n",
       "    <tr>\n",
       "      <th>3</th>\n",
       "      <td>tt0000004</td>\n",
       "      <td>short</td>\n",
       "      <td>Un bon bock</td>\n",
       "      <td>Un bon bock</td>\n",
       "      <td>0.0</td>\n",
       "      <td>1892.0</td>\n",
       "      <td>NaN</td>\n",
       "      <td>12.0</td>\n",
       "      <td>Animation,Short</td>\n",
       "    </tr>\n",
       "    <tr>\n",
       "      <th>4</th>\n",
       "      <td>tt0000005</td>\n",
       "      <td>short</td>\n",
       "      <td>Blacksmith Scene</td>\n",
       "      <td>Blacksmith Scene</td>\n",
       "      <td>0.0</td>\n",
       "      <td>1893.0</td>\n",
       "      <td>NaN</td>\n",
       "      <td>1.0</td>\n",
       "      <td>Comedy,Short</td>\n",
       "    </tr>\n",
       "  </tbody>\n",
       "</table>\n",
       "</div>"
      ],
      "text/plain": [
       "      tconst titleType            primaryTitle           originalTitle  \\\n",
       "0  tt0000001     short              Carmencita              Carmencita   \n",
       "1  tt0000002     short  Le clown et ses chiens  Le clown et ses chiens   \n",
       "2  tt0000003     short          Pauvre Pierrot          Pauvre Pierrot   \n",
       "3  tt0000004     short             Un bon bock             Un bon bock   \n",
       "4  tt0000005     short        Blacksmith Scene        Blacksmith Scene   \n",
       "\n",
       "   isAdult  startYear  endYear runtimeMinutes                    genres  \n",
       "0      0.0     1894.0      NaN            1.0         Documentary,Short  \n",
       "1      0.0     1892.0      NaN            5.0           Animation,Short  \n",
       "2      0.0     1892.0      NaN            4.0  Animation,Comedy,Romance  \n",
       "3      0.0     1892.0      NaN           12.0           Animation,Short  \n",
       "4      0.0     1893.0      NaN            1.0              Comedy,Short  "
      ]
     },
     "execution_count": 2,
     "metadata": {},
     "output_type": "execute_result"
    }
   ],
   "source": [
    "# read in title_basics.tsv and check first five rows to ensure data loaded properly\n",
    "titles = pd.read_csv('data/title_basics.tsv', sep='\\t', na_values = '\\\\N')\n",
    "titles.head()"
   ]
  },
  {
   "cell_type": "code",
   "execution_count": 3,
   "id": "30928688",
   "metadata": {
    "scrolled": true
   },
   "outputs": [
    {
     "data": {
      "text/html": [
       "<div>\n",
       "<style scoped>\n",
       "    .dataframe tbody tr th:only-of-type {\n",
       "        vertical-align: middle;\n",
       "    }\n",
       "\n",
       "    .dataframe tbody tr th {\n",
       "        vertical-align: top;\n",
       "    }\n",
       "\n",
       "    .dataframe thead th {\n",
       "        text-align: right;\n",
       "    }\n",
       "</style>\n",
       "<table border=\"1\" class=\"dataframe\">\n",
       "  <thead>\n",
       "    <tr style=\"text-align: right;\">\n",
       "      <th></th>\n",
       "      <th>tconst</th>\n",
       "      <th>averageRating</th>\n",
       "      <th>numVotes</th>\n",
       "    </tr>\n",
       "  </thead>\n",
       "  <tbody>\n",
       "    <tr>\n",
       "      <th>0</th>\n",
       "      <td>tt0000001</td>\n",
       "      <td>5.7</td>\n",
       "      <td>1853</td>\n",
       "    </tr>\n",
       "    <tr>\n",
       "      <th>1</th>\n",
       "      <td>tt0000002</td>\n",
       "      <td>6.0</td>\n",
       "      <td>241</td>\n",
       "    </tr>\n",
       "    <tr>\n",
       "      <th>2</th>\n",
       "      <td>tt0000003</td>\n",
       "      <td>6.5</td>\n",
       "      <td>1620</td>\n",
       "    </tr>\n",
       "    <tr>\n",
       "      <th>3</th>\n",
       "      <td>tt0000004</td>\n",
       "      <td>6.0</td>\n",
       "      <td>156</td>\n",
       "    </tr>\n",
       "    <tr>\n",
       "      <th>4</th>\n",
       "      <td>tt0000005</td>\n",
       "      <td>6.2</td>\n",
       "      <td>2448</td>\n",
       "    </tr>\n",
       "  </tbody>\n",
       "</table>\n",
       "</div>"
      ],
      "text/plain": [
       "      tconst  averageRating  numVotes\n",
       "0  tt0000001            5.7      1853\n",
       "1  tt0000002            6.0       241\n",
       "2  tt0000003            6.5      1620\n",
       "3  tt0000004            6.0       156\n",
       "4  tt0000005            6.2      2448"
      ]
     },
     "execution_count": 3,
     "metadata": {},
     "output_type": "execute_result"
    }
   ],
   "source": [
    "# read in title_ratings.tsv and check first five rows to ensure data loaded properly\n",
    "ratings = pd.read_csv('data/title_ratings.tsv', sep='\\t', na_values='\\\\N')\n",
    "ratings.head()"
   ]
  },
  {
   "cell_type": "markdown",
   "id": "d2e4accd",
   "metadata": {},
   "source": [
    "#### (2) Merge two dataframes into one consolidated dataframe"
   ]
  },
  {
   "cell_type": "markdown",
   "id": "b4e63d07",
   "metadata": {},
   "source": [
    "I felt the next step would be to see if I could merge the two dataframes right away on the `tconst` variable. Getting them consolidated into one dataframe would simplify any cleaning/reformatting endeavors."
   ]
  },
  {
   "cell_type": "code",
   "execution_count": 4,
   "id": "20d81a36",
   "metadata": {},
   "outputs": [],
   "source": [
    "# merge titles and ratings dataframes on tconst column\n",
    "movies_with_ratings = pd.merge(titles, ratings, on='tconst')"
   ]
  },
  {
   "cell_type": "code",
   "execution_count": 5,
   "id": "87d7daa5",
   "metadata": {},
   "outputs": [
    {
     "data": {
      "text/html": [
       "<div>\n",
       "<style scoped>\n",
       "    .dataframe tbody tr th:only-of-type {\n",
       "        vertical-align: middle;\n",
       "    }\n",
       "\n",
       "    .dataframe tbody tr th {\n",
       "        vertical-align: top;\n",
       "    }\n",
       "\n",
       "    .dataframe thead th {\n",
       "        text-align: right;\n",
       "    }\n",
       "</style>\n",
       "<table border=\"1\" class=\"dataframe\">\n",
       "  <thead>\n",
       "    <tr style=\"text-align: right;\">\n",
       "      <th></th>\n",
       "      <th>tconst</th>\n",
       "      <th>titleType</th>\n",
       "      <th>primaryTitle</th>\n",
       "      <th>originalTitle</th>\n",
       "      <th>isAdult</th>\n",
       "      <th>startYear</th>\n",
       "      <th>endYear</th>\n",
       "      <th>runtimeMinutes</th>\n",
       "      <th>genres</th>\n",
       "      <th>averageRating</th>\n",
       "      <th>numVotes</th>\n",
       "    </tr>\n",
       "  </thead>\n",
       "  <tbody>\n",
       "    <tr>\n",
       "      <th>0</th>\n",
       "      <td>tt0000001</td>\n",
       "      <td>short</td>\n",
       "      <td>Carmencita</td>\n",
       "      <td>Carmencita</td>\n",
       "      <td>0.0</td>\n",
       "      <td>1894.0</td>\n",
       "      <td>NaN</td>\n",
       "      <td>1.0</td>\n",
       "      <td>Documentary,Short</td>\n",
       "      <td>5.7</td>\n",
       "      <td>1853</td>\n",
       "    </tr>\n",
       "    <tr>\n",
       "      <th>1</th>\n",
       "      <td>tt0000002</td>\n",
       "      <td>short</td>\n",
       "      <td>Le clown et ses chiens</td>\n",
       "      <td>Le clown et ses chiens</td>\n",
       "      <td>0.0</td>\n",
       "      <td>1892.0</td>\n",
       "      <td>NaN</td>\n",
       "      <td>5.0</td>\n",
       "      <td>Animation,Short</td>\n",
       "      <td>6.0</td>\n",
       "      <td>241</td>\n",
       "    </tr>\n",
       "    <tr>\n",
       "      <th>2</th>\n",
       "      <td>tt0000003</td>\n",
       "      <td>short</td>\n",
       "      <td>Pauvre Pierrot</td>\n",
       "      <td>Pauvre Pierrot</td>\n",
       "      <td>0.0</td>\n",
       "      <td>1892.0</td>\n",
       "      <td>NaN</td>\n",
       "      <td>4.0</td>\n",
       "      <td>Animation,Comedy,Romance</td>\n",
       "      <td>6.5</td>\n",
       "      <td>1620</td>\n",
       "    </tr>\n",
       "    <tr>\n",
       "      <th>3</th>\n",
       "      <td>tt0000004</td>\n",
       "      <td>short</td>\n",
       "      <td>Un bon bock</td>\n",
       "      <td>Un bon bock</td>\n",
       "      <td>0.0</td>\n",
       "      <td>1892.0</td>\n",
       "      <td>NaN</td>\n",
       "      <td>12.0</td>\n",
       "      <td>Animation,Short</td>\n",
       "      <td>6.0</td>\n",
       "      <td>156</td>\n",
       "    </tr>\n",
       "    <tr>\n",
       "      <th>4</th>\n",
       "      <td>tt0000005</td>\n",
       "      <td>short</td>\n",
       "      <td>Blacksmith Scene</td>\n",
       "      <td>Blacksmith Scene</td>\n",
       "      <td>0.0</td>\n",
       "      <td>1893.0</td>\n",
       "      <td>NaN</td>\n",
       "      <td>1.0</td>\n",
       "      <td>Comedy,Short</td>\n",
       "      <td>6.2</td>\n",
       "      <td>2448</td>\n",
       "    </tr>\n",
       "  </tbody>\n",
       "</table>\n",
       "</div>"
      ],
      "text/plain": [
       "      tconst titleType            primaryTitle           originalTitle  \\\n",
       "0  tt0000001     short              Carmencita              Carmencita   \n",
       "1  tt0000002     short  Le clown et ses chiens  Le clown et ses chiens   \n",
       "2  tt0000003     short          Pauvre Pierrot          Pauvre Pierrot   \n",
       "3  tt0000004     short             Un bon bock             Un bon bock   \n",
       "4  tt0000005     short        Blacksmith Scene        Blacksmith Scene   \n",
       "\n",
       "   isAdult  startYear  endYear runtimeMinutes                    genres  \\\n",
       "0      0.0     1894.0      NaN            1.0         Documentary,Short   \n",
       "1      0.0     1892.0      NaN            5.0           Animation,Short   \n",
       "2      0.0     1892.0      NaN            4.0  Animation,Comedy,Romance   \n",
       "3      0.0     1892.0      NaN           12.0           Animation,Short   \n",
       "4      0.0     1893.0      NaN            1.0              Comedy,Short   \n",
       "\n",
       "   averageRating  numVotes  \n",
       "0            5.7      1853  \n",
       "1            6.0       241  \n",
       "2            6.5      1620  \n",
       "3            6.0       156  \n",
       "4            6.2      2448  "
      ]
     },
     "execution_count": 5,
     "metadata": {},
     "output_type": "execute_result"
    }
   ],
   "source": [
    "# check first five rows to ensure data merged properly\n",
    "movies_with_ratings.head()"
   ]
  },
  {
   "cell_type": "markdown",
   "id": "41e2dc12",
   "metadata": {},
   "source": [
    "#### (3) Check to see how many rows were lost during merge"
   ]
  },
  {
   "cell_type": "markdown",
   "id": "2ad08f9a",
   "metadata": {},
   "source": [
    "As shown above, the two columns from the ratings dataframe `averageRating` and `numVotes` were added properly. One thing I felt would be important to check would see how many observations were lost as a result of merging. To do this, I compared the data contained in `pd.shape` for each of the dataframes."
   ]
  },
  {
   "cell_type": "code",
   "execution_count": 6,
   "id": "e0f0e9f0",
   "metadata": {
    "scrolled": true
   },
   "outputs": [
    {
     "name": "stdout",
     "output_type": "stream",
     "text": [
      "titles rows:\t8650561\n",
      "ratings rows:\t1210369\n",
      "combined rows:\t1210369\n",
      "loss of rows:\t7440192\n",
      "data lost:\t-86.01\n"
     ]
    }
   ],
   "source": [
    "# display total rows for each individual dataframe\n",
    "print('titles rows:\\t{}'.format(titles.shape[0]))\n",
    "print('ratings rows:\\t{}'.format(ratings.shape[0]))\n",
    "print('combined rows:\\t{}'.format(movies_with_ratings.shape[0]))\n",
    "\n",
    "# display loss of rows after merging\n",
    "print('loss of rows:\\t{}'.format(titles.shape[0] - ratings.shape[0]))\n",
    "\n",
    "# display percentage of information lost\n",
    "print('data lost:\\t{}'.format((round(((movies_with_ratings.shape[0] - titles.shape[0]) / titles.shape[0] ) * 100,2))))"
   ]
  },
  {
   "cell_type": "markdown",
   "id": "1d755b0f",
   "metadata": {},
   "source": [
    "So, nearly 7.5 million rows were lost after merging which is resulted in about an 86% reduction of total observations. While I was sad to see so many rows lost, there were still over 1 million available for analysis. Also, depending on how my efforts go working with the API, I might be able to gain back some of these rows."
   ]
  },
  {
   "cell_type": "markdown",
   "id": "3d22d884",
   "metadata": {},
   "source": [
    "#### (4) Inspect datatypes to see how values were encoded during the data loading"
   ]
  },
  {
   "cell_type": "markdown",
   "id": "c257d478",
   "metadata": {},
   "source": [
    "Next, after reading in data I typically check the `pd.info()` output to see how the variables were coded during the loading. If there are values that I want numerical that are coded as strings (or vice-versa), these columns will need to be converted appropriately. "
   ]
  },
  {
   "cell_type": "code",
   "execution_count": 7,
   "id": "67b7d47e",
   "metadata": {
    "scrolled": true
   },
   "outputs": [
    {
     "name": "stdout",
     "output_type": "stream",
     "text": [
      "<class 'pandas.core.frame.DataFrame'>\n",
      "Int64Index: 1210369 entries, 0 to 1210368\n",
      "Data columns (total 11 columns):\n",
      " #   Column          Non-Null Count    Dtype  \n",
      "---  ------          --------------    -----  \n",
      " 0   tconst          1210369 non-null  object \n",
      " 1   titleType       1210369 non-null  object \n",
      " 2   primaryTitle    1210369 non-null  object \n",
      " 3   originalTitle   1210369 non-null  object \n",
      " 4   isAdult         1210369 non-null  float64\n",
      " 5   startYear       1210158 non-null  float64\n",
      " 6   endYear         36246 non-null    float64\n",
      " 7   runtimeMinutes  871662 non-null   object \n",
      " 8   genres          1190599 non-null  object \n",
      " 9   averageRating   1210369 non-null  float64\n",
      " 10  numVotes        1210369 non-null  int64  \n",
      "dtypes: float64(4), int64(1), object(6)\n",
      "memory usage: 110.8+ MB\n",
      "None\n"
     ]
    }
   ],
   "source": [
    "# check info for merged dataframe to verify encoded data types\n",
    "print(movies_with_ratings.info())"
   ]
  },
  {
   "cell_type": "markdown",
   "id": "b818a1c8",
   "metadata": {},
   "source": [
    "It would seem that all of the columns in the `ratings` dataframe were encoded properly and do not need any cleaning. However, `isAdult`, `startYear`, `endYear`, and `runtimeMinutes` were all encoded as string/object values. \n",
    "\n",
    "After reviewing the documentation provided at [IMDb Interfaces](https://www.imdb.com/interfaces/), the curators of the datasets encoded missing or null values with a newline character. As such, I felt that a further refining of the dataset would be necessary, as all of the movies would not have a value stored for `endYear`. As such, I decided to first create a subset that contained only movies to see how many rows were remaining (so sufficient analysis could still be conducted)."
   ]
  },
  {
   "cell_type": "markdown",
   "id": "191416d6",
   "metadata": {},
   "source": [
    "#### (5) Create subset that contains only movies"
   ]
  },
  {
   "cell_type": "code",
   "execution_count": 8,
   "id": "6ab75611",
   "metadata": {
    "scrolled": true
   },
   "outputs": [
    {
     "data": {
      "text/html": [
       "<div>\n",
       "<style scoped>\n",
       "    .dataframe tbody tr th:only-of-type {\n",
       "        vertical-align: middle;\n",
       "    }\n",
       "\n",
       "    .dataframe tbody tr th {\n",
       "        vertical-align: top;\n",
       "    }\n",
       "\n",
       "    .dataframe thead th {\n",
       "        text-align: right;\n",
       "    }\n",
       "</style>\n",
       "<table border=\"1\" class=\"dataframe\">\n",
       "  <thead>\n",
       "    <tr style=\"text-align: right;\">\n",
       "      <th></th>\n",
       "      <th>tconst</th>\n",
       "      <th>titleType</th>\n",
       "      <th>primaryTitle</th>\n",
       "      <th>originalTitle</th>\n",
       "      <th>isAdult</th>\n",
       "      <th>startYear</th>\n",
       "      <th>endYear</th>\n",
       "      <th>runtimeMinutes</th>\n",
       "      <th>genres</th>\n",
       "      <th>averageRating</th>\n",
       "      <th>numVotes</th>\n",
       "    </tr>\n",
       "  </thead>\n",
       "  <tbody>\n",
       "    <tr>\n",
       "      <th>340</th>\n",
       "      <td>tt0000502</td>\n",
       "      <td>movie</td>\n",
       "      <td>Bohemios</td>\n",
       "      <td>Bohemios</td>\n",
       "      <td>0.0</td>\n",
       "      <td>1905.0</td>\n",
       "      <td>NaN</td>\n",
       "      <td>100.0</td>\n",
       "      <td>NaN</td>\n",
       "      <td>4.5</td>\n",
       "      <td>14</td>\n",
       "    </tr>\n",
       "    <tr>\n",
       "      <th>374</th>\n",
       "      <td>tt0000574</td>\n",
       "      <td>movie</td>\n",
       "      <td>The Story of the Kelly Gang</td>\n",
       "      <td>The Story of the Kelly Gang</td>\n",
       "      <td>0.0</td>\n",
       "      <td>1906.0</td>\n",
       "      <td>NaN</td>\n",
       "      <td>70.0</td>\n",
       "      <td>Action,Adventure,Biography</td>\n",
       "      <td>6.1</td>\n",
       "      <td>747</td>\n",
       "    </tr>\n",
       "    <tr>\n",
       "      <th>383</th>\n",
       "      <td>tt0000591</td>\n",
       "      <td>movie</td>\n",
       "      <td>The Prodigal Son</td>\n",
       "      <td>L'enfant prodigue</td>\n",
       "      <td>0.0</td>\n",
       "      <td>1907.0</td>\n",
       "      <td>NaN</td>\n",
       "      <td>90.0</td>\n",
       "      <td>Drama</td>\n",
       "      <td>5.2</td>\n",
       "      <td>16</td>\n",
       "    </tr>\n",
       "    <tr>\n",
       "      <th>397</th>\n",
       "      <td>tt0000615</td>\n",
       "      <td>movie</td>\n",
       "      <td>Robbery Under Arms</td>\n",
       "      <td>Robbery Under Arms</td>\n",
       "      <td>0.0</td>\n",
       "      <td>1907.0</td>\n",
       "      <td>NaN</td>\n",
       "      <td>NaN</td>\n",
       "      <td>Drama</td>\n",
       "      <td>4.5</td>\n",
       "      <td>23</td>\n",
       "    </tr>\n",
       "    <tr>\n",
       "      <th>405</th>\n",
       "      <td>tt0000630</td>\n",
       "      <td>movie</td>\n",
       "      <td>Hamlet</td>\n",
       "      <td>Amleto</td>\n",
       "      <td>0.0</td>\n",
       "      <td>1908.0</td>\n",
       "      <td>NaN</td>\n",
       "      <td>NaN</td>\n",
       "      <td>Drama</td>\n",
       "      <td>3.8</td>\n",
       "      <td>24</td>\n",
       "    </tr>\n",
       "  </tbody>\n",
       "</table>\n",
       "</div>"
      ],
      "text/plain": [
       "        tconst titleType                 primaryTitle  \\\n",
       "340  tt0000502     movie                     Bohemios   \n",
       "374  tt0000574     movie  The Story of the Kelly Gang   \n",
       "383  tt0000591     movie             The Prodigal Son   \n",
       "397  tt0000615     movie           Robbery Under Arms   \n",
       "405  tt0000630     movie                       Hamlet   \n",
       "\n",
       "                   originalTitle  isAdult  startYear  endYear runtimeMinutes  \\\n",
       "340                     Bohemios      0.0     1905.0      NaN          100.0   \n",
       "374  The Story of the Kelly Gang      0.0     1906.0      NaN           70.0   \n",
       "383            L'enfant prodigue      0.0     1907.0      NaN           90.0   \n",
       "397           Robbery Under Arms      0.0     1907.0      NaN            NaN   \n",
       "405                       Amleto      0.0     1908.0      NaN            NaN   \n",
       "\n",
       "                         genres  averageRating  numVotes  \n",
       "340                         NaN            4.5        14  \n",
       "374  Action,Adventure,Biography            6.1       747  \n",
       "383                       Drama            5.2        16  \n",
       "397                       Drama            4.5        23  \n",
       "405                       Drama            3.8        24  "
      ]
     },
     "execution_count": 8,
     "metadata": {},
     "output_type": "execute_result"
    }
   ],
   "source": [
    "# create subset df that contains only movies\n",
    "only_movies = movies_with_ratings[movies_with_ratings['titleType'].isin(['movie'])]\n",
    "only_movies.head()"
   ]
  },
  {
   "cell_type": "code",
   "execution_count": 9,
   "id": "0da7d1b1",
   "metadata": {},
   "outputs": [
    {
     "name": "stdout",
     "output_type": "stream",
     "text": [
      "<class 'pandas.core.frame.DataFrame'>\n",
      "Int64Index: 274383 entries, 340 to 1210358\n",
      "Data columns (total 11 columns):\n",
      " #   Column          Non-Null Count   Dtype  \n",
      "---  ------          --------------   -----  \n",
      " 0   tconst          274383 non-null  object \n",
      " 1   titleType       274383 non-null  object \n",
      " 2   primaryTitle    274383 non-null  object \n",
      " 3   originalTitle   274383 non-null  object \n",
      " 4   isAdult         274383 non-null  float64\n",
      " 5   startYear       274355 non-null  float64\n",
      " 6   endYear         0 non-null       float64\n",
      " 7   runtimeMinutes  246575 non-null  object \n",
      " 8   genres          264106 non-null  object \n",
      " 9   averageRating   274383 non-null  float64\n",
      " 10  numVotes        274383 non-null  int64  \n",
      "dtypes: float64(4), int64(1), object(6)\n",
      "memory usage: 25.1+ MB\n",
      "None\n"
     ]
    }
   ],
   "source": [
    "# check shape to see how many rows were lost\n",
    "print(only_movies.info())"
   ]
  },
  {
   "cell_type": "markdown",
   "id": "c0c5ea9c",
   "metadata": {},
   "source": [
    "This resulted in a much smaller dataframe with only ~274,000 rows. However, I felt this was still quite large and I would still be able to discover interesting insights."
   ]
  },
  {
   "cell_type": "markdown",
   "id": "99e63102",
   "metadata": {},
   "source": [
    "#### (6) Drop redundant columns"
   ]
  },
  {
   "cell_type": "markdown",
   "id": "e03a1ea1",
   "metadata": {},
   "source": [
    "Since I am only dealing with movies, the column `endYear` is useless as this field was only used to track data for TV shows that air over a period of time, rather than a release date with movies. Also, there is an `originalTitle` column that I believe tracks if the title was changed or if the title was in another language. I felt that this column could also be dropped without much impact to analysis efforts. Also, since I am only dealing with movies, the `titleType` column could also be dropped safely."
   ]
  },
  {
   "cell_type": "code",
   "execution_count": 10,
   "id": "21aa4da2",
   "metadata": {},
   "outputs": [
    {
     "data": {
      "text/html": [
       "<div>\n",
       "<style scoped>\n",
       "    .dataframe tbody tr th:only-of-type {\n",
       "        vertical-align: middle;\n",
       "    }\n",
       "\n",
       "    .dataframe tbody tr th {\n",
       "        vertical-align: top;\n",
       "    }\n",
       "\n",
       "    .dataframe thead th {\n",
       "        text-align: right;\n",
       "    }\n",
       "</style>\n",
       "<table border=\"1\" class=\"dataframe\">\n",
       "  <thead>\n",
       "    <tr style=\"text-align: right;\">\n",
       "      <th></th>\n",
       "      <th>tconst</th>\n",
       "      <th>primaryTitle</th>\n",
       "      <th>isAdult</th>\n",
       "      <th>startYear</th>\n",
       "      <th>runtimeMinutes</th>\n",
       "      <th>genres</th>\n",
       "      <th>averageRating</th>\n",
       "      <th>numVotes</th>\n",
       "    </tr>\n",
       "  </thead>\n",
       "  <tbody>\n",
       "    <tr>\n",
       "      <th>340</th>\n",
       "      <td>tt0000502</td>\n",
       "      <td>Bohemios</td>\n",
       "      <td>0.0</td>\n",
       "      <td>1905.0</td>\n",
       "      <td>100.0</td>\n",
       "      <td>NaN</td>\n",
       "      <td>4.5</td>\n",
       "      <td>14</td>\n",
       "    </tr>\n",
       "    <tr>\n",
       "      <th>374</th>\n",
       "      <td>tt0000574</td>\n",
       "      <td>The Story of the Kelly Gang</td>\n",
       "      <td>0.0</td>\n",
       "      <td>1906.0</td>\n",
       "      <td>70.0</td>\n",
       "      <td>Action,Adventure,Biography</td>\n",
       "      <td>6.1</td>\n",
       "      <td>747</td>\n",
       "    </tr>\n",
       "    <tr>\n",
       "      <th>383</th>\n",
       "      <td>tt0000591</td>\n",
       "      <td>The Prodigal Son</td>\n",
       "      <td>0.0</td>\n",
       "      <td>1907.0</td>\n",
       "      <td>90.0</td>\n",
       "      <td>Drama</td>\n",
       "      <td>5.2</td>\n",
       "      <td>16</td>\n",
       "    </tr>\n",
       "    <tr>\n",
       "      <th>397</th>\n",
       "      <td>tt0000615</td>\n",
       "      <td>Robbery Under Arms</td>\n",
       "      <td>0.0</td>\n",
       "      <td>1907.0</td>\n",
       "      <td>NaN</td>\n",
       "      <td>Drama</td>\n",
       "      <td>4.5</td>\n",
       "      <td>23</td>\n",
       "    </tr>\n",
       "    <tr>\n",
       "      <th>405</th>\n",
       "      <td>tt0000630</td>\n",
       "      <td>Hamlet</td>\n",
       "      <td>0.0</td>\n",
       "      <td>1908.0</td>\n",
       "      <td>NaN</td>\n",
       "      <td>Drama</td>\n",
       "      <td>3.8</td>\n",
       "      <td>24</td>\n",
       "    </tr>\n",
       "  </tbody>\n",
       "</table>\n",
       "</div>"
      ],
      "text/plain": [
       "        tconst                 primaryTitle  isAdult  startYear  \\\n",
       "340  tt0000502                     Bohemios      0.0     1905.0   \n",
       "374  tt0000574  The Story of the Kelly Gang      0.0     1906.0   \n",
       "383  tt0000591             The Prodigal Son      0.0     1907.0   \n",
       "397  tt0000615           Robbery Under Arms      0.0     1907.0   \n",
       "405  tt0000630                       Hamlet      0.0     1908.0   \n",
       "\n",
       "    runtimeMinutes                      genres  averageRating  numVotes  \n",
       "340          100.0                         NaN            4.5        14  \n",
       "374           70.0  Action,Adventure,Biography            6.1       747  \n",
       "383           90.0                       Drama            5.2        16  \n",
       "397            NaN                       Drama            4.5        23  \n",
       "405            NaN                       Drama            3.8        24  "
      ]
     },
     "execution_count": 10,
     "metadata": {},
     "output_type": "execute_result"
    }
   ],
   "source": [
    "movies_noredun = only_movies.drop(['titleType','originalTitle', 'endYear'], axis=1)\n",
    "movies_noredun.head()"
   ]
  },
  {
   "cell_type": "markdown",
   "id": "8d7b549b",
   "metadata": {},
   "source": [
    "#### (7) Check For Duplicate Values"
   ]
  },
  {
   "cell_type": "code",
   "execution_count": 11,
   "id": "603aa3d3",
   "metadata": {},
   "outputs": [
    {
     "data": {
      "text/plain": [
       "0"
      ]
     },
     "execution_count": 11,
     "metadata": {},
     "output_type": "execute_result"
    }
   ],
   "source": [
    "# check for count of duplicated values\n",
    "movies_noredun.duplicated().sum()"
   ]
  },
  {
   "cell_type": "markdown",
   "id": "798cada1",
   "metadata": {},
   "source": [
    "It does not look like my dataframe at this stage contains any duplicate values!"
   ]
  },
  {
   "cell_type": "markdown",
   "id": "b406dec1",
   "metadata": {},
   "source": [
    "#### (8) Addressing Missing/Null Values"
   ]
  },
  {
   "cell_type": "markdown",
   "id": "206ff494",
   "metadata": {},
   "source": [
    "I felt the next step to take was to handle the missing data. First, I checked for the existence of any null values using the implementation below that checks for null values for each column. It showed that there were NO missing values at all! However, as noted in an earlier step, all of the missing/null values were encoded with a newline character.  \n",
    "\n",
    "It was during my research for this step, I found that there is a way to encoded specfic characters as Nans during the load stage by passing an additional `na_values` argument to the `pd.read_csv()` method. So I decided to make a copy at this stage and re-attempt my data loading with this new argument. I actually found this to be very useful and actually changed the datatypes of some of the columns I was going to have to change in a future step!\n",
    "\n",
    "After converting the newline characters to `NaN`s I could accurately assess how many missing values existed in the dataframe using the `sum()` of the `isnull()` method."
   ]
  },
  {
   "cell_type": "code",
   "execution_count": 12,
   "id": "0c934938",
   "metadata": {},
   "outputs": [
    {
     "data": {
      "text/plain": [
       "tconst                0\n",
       "primaryTitle          0\n",
       "isAdult               0\n",
       "startYear            28\n",
       "runtimeMinutes    27808\n",
       "genres            10277\n",
       "averageRating         0\n",
       "numVotes              0\n",
       "dtype: int64"
      ]
     },
     "execution_count": 12,
     "metadata": {},
     "output_type": "execute_result"
    }
   ],
   "source": [
    "# check for NaNs\n",
    "movies_noredun.isnull().sum()"
   ]
  },
  {
   "cell_type": "code",
   "execution_count": 13,
   "id": "3da9a23a",
   "metadata": {
    "scrolled": true
   },
   "outputs": [
    {
     "name": "stdout",
     "output_type": "stream",
     "text": [
      "<class 'pandas.core.frame.DataFrame'>\n",
      "Int64Index: 274383 entries, 340 to 1210358\n",
      "Data columns (total 8 columns):\n",
      " #   Column          Non-Null Count   Dtype  \n",
      "---  ------          --------------   -----  \n",
      " 0   tconst          274383 non-null  object \n",
      " 1   primaryTitle    274383 non-null  object \n",
      " 2   isAdult         274383 non-null  float64\n",
      " 3   startYear       274355 non-null  float64\n",
      " 4   runtimeMinutes  246575 non-null  object \n",
      " 5   genres          264106 non-null  object \n",
      " 6   averageRating   274383 non-null  float64\n",
      " 7   numVotes        274383 non-null  int64  \n",
      "dtypes: float64(3), int64(1), object(4)\n",
      "memory usage: 18.8+ MB\n"
     ]
    }
   ],
   "source": [
    "# check info to verify datatypes\n",
    "movies_noredun.info()"
   ]
  },
  {
   "cell_type": "markdown",
   "id": "d86db2a5",
   "metadata": {},
   "source": [
    "There were only 28 observations with missing `startYear` values, however there were still quite a few rows with missing values for `runtimeMinutes` and `genres`. I thought it would be important to check the datatypes. \n",
    "\n",
    "It looks like `runtimeMinutes` was still being encoded as an object. First, I decided to drop all rows with missing values in this column. After doing this, it would seem that all null values were accounted for, as the values in the `Int64Index` and `Non-Null` count for each column were both `240851`."
   ]
  },
  {
   "cell_type": "code",
   "execution_count": 14,
   "id": "a64590e0",
   "metadata": {},
   "outputs": [
    {
     "name": "stdout",
     "output_type": "stream",
     "text": [
      "<class 'pandas.core.frame.DataFrame'>\n",
      "Int64Index: 240851 entries, 374 to 1210358\n",
      "Data columns (total 8 columns):\n",
      " #   Column          Non-Null Count   Dtype  \n",
      "---  ------          --------------   -----  \n",
      " 0   tconst          240851 non-null  object \n",
      " 1   primaryTitle    240851 non-null  object \n",
      " 2   isAdult         240851 non-null  float64\n",
      " 3   startYear       240851 non-null  float64\n",
      " 4   runtimeMinutes  240851 non-null  object \n",
      " 5   genres          240851 non-null  object \n",
      " 6   averageRating   240851 non-null  float64\n",
      " 7   numVotes        240851 non-null  int64  \n",
      "dtypes: float64(3), int64(1), object(4)\n",
      "memory usage: 16.5+ MB\n"
     ]
    }
   ],
   "source": [
    "# drop all rows where runtimeMinutes value was missing\n",
    "movies_noredun.dropna(axis=0, how='any', inplace=True)\n",
    "movies_noredun.info()"
   ]
  },
  {
   "cell_type": "code",
   "execution_count": 15,
   "id": "d2c7a619",
   "metadata": {
    "scrolled": true
   },
   "outputs": [
    {
     "data": {
      "text/plain": [
       "tconst            0\n",
       "primaryTitle      0\n",
       "isAdult           0\n",
       "startYear         0\n",
       "runtimeMinutes    0\n",
       "genres            0\n",
       "averageRating     0\n",
       "numVotes          0\n",
       "dtype: int64"
      ]
     },
     "execution_count": 15,
     "metadata": {},
     "output_type": "execute_result"
    }
   ],
   "source": [
    "# check again for NaNs\n",
    "movies_noredun.isnull().sum()"
   ]
  },
  {
   "cell_type": "markdown",
   "id": "e1ee110b",
   "metadata": {},
   "source": [
    "All null values have been accounted for!"
   ]
  },
  {
   "cell_type": "markdown",
   "id": "9c42919b",
   "metadata": {},
   "source": [
    "#### (9) Convert column to specific datatype"
   ]
  },
  {
   "cell_type": "markdown",
   "id": "10bcf232",
   "metadata": {},
   "source": [
    "After accounting for missing data, I still had to convert all of the values in `runtimeMinutes` to `float64` so that I could conduct analysis of numerical data. I implemented this using the `pd.astype()` method, passing in a dictionary with a single entry containing the column name to be dropped `runtimeMinutes` and the desired data type to be converted to `float`."
   ]
  },
  {
   "cell_type": "code",
   "execution_count": 16,
   "id": "4e3d78bc",
   "metadata": {},
   "outputs": [
    {
     "name": "stdout",
     "output_type": "stream",
     "text": [
      "<class 'pandas.core.frame.DataFrame'>\n",
      "Int64Index: 240851 entries, 374 to 1210358\n",
      "Data columns (total 8 columns):\n",
      " #   Column          Non-Null Count   Dtype  \n",
      "---  ------          --------------   -----  \n",
      " 0   tconst          240851 non-null  object \n",
      " 1   primaryTitle    240851 non-null  object \n",
      " 2   isAdult         240851 non-null  float64\n",
      " 3   startYear       240851 non-null  float64\n",
      " 4   runtimeMinutes  240851 non-null  float64\n",
      " 5   genres          240851 non-null  object \n",
      " 6   averageRating   240851 non-null  float64\n",
      " 7   numVotes        240851 non-null  int64  \n",
      "dtypes: float64(4), int64(1), object(3)\n",
      "memory usage: 16.5+ MB\n"
     ]
    }
   ],
   "source": [
    "# convert all runtimeMinutes values to float datatype\n",
    "movies_noredun = movies_noredun.astype({'runtimeMinutes':float})\n",
    "movies_noredun.info()"
   ]
  },
  {
   "cell_type": "code",
   "execution_count": 17,
   "id": "dc449bd9",
   "metadata": {
    "scrolled": true
   },
   "outputs": [
    {
     "data": {
      "text/html": [
       "<div>\n",
       "<style scoped>\n",
       "    .dataframe tbody tr th:only-of-type {\n",
       "        vertical-align: middle;\n",
       "    }\n",
       "\n",
       "    .dataframe tbody tr th {\n",
       "        vertical-align: top;\n",
       "    }\n",
       "\n",
       "    .dataframe thead th {\n",
       "        text-align: right;\n",
       "    }\n",
       "</style>\n",
       "<table border=\"1\" class=\"dataframe\">\n",
       "  <thead>\n",
       "    <tr style=\"text-align: right;\">\n",
       "      <th></th>\n",
       "      <th>tconst</th>\n",
       "      <th>primaryTitle</th>\n",
       "      <th>isAdult</th>\n",
       "      <th>startYear</th>\n",
       "      <th>runtimeMinutes</th>\n",
       "      <th>genres</th>\n",
       "      <th>averageRating</th>\n",
       "      <th>numVotes</th>\n",
       "    </tr>\n",
       "  </thead>\n",
       "  <tbody>\n",
       "    <tr>\n",
       "      <th>374</th>\n",
       "      <td>tt0000574</td>\n",
       "      <td>The Story of the Kelly Gang</td>\n",
       "      <td>0.0</td>\n",
       "      <td>1906.0</td>\n",
       "      <td>70.0</td>\n",
       "      <td>Action,Adventure,Biography</td>\n",
       "      <td>6.1</td>\n",
       "      <td>747</td>\n",
       "    </tr>\n",
       "    <tr>\n",
       "      <th>383</th>\n",
       "      <td>tt0000591</td>\n",
       "      <td>The Prodigal Son</td>\n",
       "      <td>0.0</td>\n",
       "      <td>1907.0</td>\n",
       "      <td>90.0</td>\n",
       "      <td>Drama</td>\n",
       "      <td>5.2</td>\n",
       "      <td>16</td>\n",
       "    </tr>\n",
       "    <tr>\n",
       "      <th>438</th>\n",
       "      <td>tt0000679</td>\n",
       "      <td>The Fairylogue and Radio-Plays</td>\n",
       "      <td>0.0</td>\n",
       "      <td>1908.0</td>\n",
       "      <td>120.0</td>\n",
       "      <td>Adventure,Fantasy</td>\n",
       "      <td>5.3</td>\n",
       "      <td>65</td>\n",
       "    </tr>\n",
       "    <tr>\n",
       "      <th>740</th>\n",
       "      <td>tt0001184</td>\n",
       "      <td>Don Juan de Serrallonga</td>\n",
       "      <td>0.0</td>\n",
       "      <td>1910.0</td>\n",
       "      <td>58.0</td>\n",
       "      <td>Adventure,Drama</td>\n",
       "      <td>3.9</td>\n",
       "      <td>20</td>\n",
       "    </tr>\n",
       "    <tr>\n",
       "      <th>769</th>\n",
       "      <td>tt0001258</td>\n",
       "      <td>The White Slave Trade</td>\n",
       "      <td>0.0</td>\n",
       "      <td>1910.0</td>\n",
       "      <td>45.0</td>\n",
       "      <td>Drama</td>\n",
       "      <td>5.7</td>\n",
       "      <td>139</td>\n",
       "    </tr>\n",
       "  </tbody>\n",
       "</table>\n",
       "</div>"
      ],
      "text/plain": [
       "        tconst                    primaryTitle  isAdult  startYear  \\\n",
       "374  tt0000574     The Story of the Kelly Gang      0.0     1906.0   \n",
       "383  tt0000591                The Prodigal Son      0.0     1907.0   \n",
       "438  tt0000679  The Fairylogue and Radio-Plays      0.0     1908.0   \n",
       "740  tt0001184         Don Juan de Serrallonga      0.0     1910.0   \n",
       "769  tt0001258           The White Slave Trade      0.0     1910.0   \n",
       "\n",
       "     runtimeMinutes                      genres  averageRating  numVotes  \n",
       "374            70.0  Action,Adventure,Biography            6.1       747  \n",
       "383            90.0                       Drama            5.2        16  \n",
       "438           120.0           Adventure,Fantasy            5.3        65  \n",
       "740            58.0             Adventure,Drama            3.9        20  \n",
       "769            45.0                       Drama            5.7       139  "
      ]
     },
     "execution_count": 17,
     "metadata": {},
     "output_type": "execute_result"
    }
   ],
   "source": [
    "movies_noredun.head()"
   ]
  },
  {
   "cell_type": "markdown",
   "id": "2e62cd65",
   "metadata": {},
   "source": [
    "#### (10) Exacting One Genre For Simplicity"
   ]
  },
  {
   "cell_type": "markdown",
   "id": "f1e2fe98",
   "metadata": {},
   "source": [
    "Another problem I felt would impact analysis was the fact that the `genres` column could contain multiple values. I felt for simplicity, I could just extract the first genre type as they were all separated using commas. First, I had to use the `split()` method to create a list of strings for each value in the `genres` column. Then, I used the `explode()` method to assign the first string in each list of strings to the only value in the `genres` column. I also decided to reset the index here for consistency."
   ]
  },
  {
   "cell_type": "code",
   "execution_count": 18,
   "id": "2d7eef1b",
   "metadata": {},
   "outputs": [
    {
     "data": {
      "text/plain": [
       "array(['Action,Adventure,Biography', 'Drama', 'Adventure,Fantasy', ...,\n",
       "       'Documentary,Family,Sci-Fi', 'Action,Documentary,Mystery',\n",
       "       'Action,Crime,Short'], dtype=object)"
      ]
     },
     "execution_count": 18,
     "metadata": {},
     "output_type": "execute_result"
    }
   ],
   "source": [
    "# check for unique values in the genres column\n",
    "movies_noredun['genres'].unique()"
   ]
  },
  {
   "cell_type": "code",
   "execution_count": 19,
   "id": "75c8b051",
   "metadata": {
    "scrolled": true
   },
   "outputs": [
    {
     "data": {
      "text/html": [
       "<div>\n",
       "<style scoped>\n",
       "    .dataframe tbody tr th:only-of-type {\n",
       "        vertical-align: middle;\n",
       "    }\n",
       "\n",
       "    .dataframe tbody tr th {\n",
       "        vertical-align: top;\n",
       "    }\n",
       "\n",
       "    .dataframe thead th {\n",
       "        text-align: right;\n",
       "    }\n",
       "</style>\n",
       "<table border=\"1\" class=\"dataframe\">\n",
       "  <thead>\n",
       "    <tr style=\"text-align: right;\">\n",
       "      <th></th>\n",
       "      <th>tconst</th>\n",
       "      <th>primaryTitle</th>\n",
       "      <th>isAdult</th>\n",
       "      <th>startYear</th>\n",
       "      <th>runtimeMinutes</th>\n",
       "      <th>genres</th>\n",
       "      <th>averageRating</th>\n",
       "      <th>numVotes</th>\n",
       "    </tr>\n",
       "  </thead>\n",
       "  <tbody>\n",
       "    <tr>\n",
       "      <th>0</th>\n",
       "      <td>tt0000574</td>\n",
       "      <td>The Story of the Kelly Gang</td>\n",
       "      <td>0.0</td>\n",
       "      <td>1906.0</td>\n",
       "      <td>70.0</td>\n",
       "      <td>Action</td>\n",
       "      <td>6.1</td>\n",
       "      <td>747</td>\n",
       "    </tr>\n",
       "    <tr>\n",
       "      <th>1</th>\n",
       "      <td>tt0000574</td>\n",
       "      <td>The Story of the Kelly Gang</td>\n",
       "      <td>0.0</td>\n",
       "      <td>1906.0</td>\n",
       "      <td>70.0</td>\n",
       "      <td>Adventure</td>\n",
       "      <td>6.1</td>\n",
       "      <td>747</td>\n",
       "    </tr>\n",
       "    <tr>\n",
       "      <th>2</th>\n",
       "      <td>tt0000574</td>\n",
       "      <td>The Story of the Kelly Gang</td>\n",
       "      <td>0.0</td>\n",
       "      <td>1906.0</td>\n",
       "      <td>70.0</td>\n",
       "      <td>Biography</td>\n",
       "      <td>6.1</td>\n",
       "      <td>747</td>\n",
       "    </tr>\n",
       "    <tr>\n",
       "      <th>3</th>\n",
       "      <td>tt0000591</td>\n",
       "      <td>The Prodigal Son</td>\n",
       "      <td>0.0</td>\n",
       "      <td>1907.0</td>\n",
       "      <td>90.0</td>\n",
       "      <td>Drama</td>\n",
       "      <td>5.2</td>\n",
       "      <td>16</td>\n",
       "    </tr>\n",
       "    <tr>\n",
       "      <th>4</th>\n",
       "      <td>tt0000679</td>\n",
       "      <td>The Fairylogue and Radio-Plays</td>\n",
       "      <td>0.0</td>\n",
       "      <td>1908.0</td>\n",
       "      <td>120.0</td>\n",
       "      <td>Adventure</td>\n",
       "      <td>5.3</td>\n",
       "      <td>65</td>\n",
       "    </tr>\n",
       "  </tbody>\n",
       "</table>\n",
       "</div>"
      ],
      "text/plain": [
       "      tconst                    primaryTitle  isAdult  startYear  \\\n",
       "0  tt0000574     The Story of the Kelly Gang      0.0     1906.0   \n",
       "1  tt0000574     The Story of the Kelly Gang      0.0     1906.0   \n",
       "2  tt0000574     The Story of the Kelly Gang      0.0     1906.0   \n",
       "3  tt0000591                The Prodigal Son      0.0     1907.0   \n",
       "4  tt0000679  The Fairylogue and Radio-Plays      0.0     1908.0   \n",
       "\n",
       "   runtimeMinutes     genres  averageRating  numVotes  \n",
       "0            70.0     Action            6.1       747  \n",
       "1            70.0  Adventure            6.1       747  \n",
       "2            70.0  Biography            6.1       747  \n",
       "3            90.0      Drama            5.2        16  \n",
       "4           120.0  Adventure            5.3        65  "
      ]
     },
     "execution_count": 19,
     "metadata": {},
     "output_type": "execute_result"
    }
   ],
   "source": [
    "# change genre values to list of strings split on comma\n",
    "movies_noredun['genres'] = movies_noredun['genres'].str.split(',')\n",
    "\n",
    "# assign first string from list of strings to column value\n",
    "movies_one_genre = movies_noredun.explode('genres').reset_index(drop=True)\n",
    "\n",
    "# check first five rows to ensure changes were implemented appropriately\n",
    "movies_one_genre.head()"
   ]
  },
  {
   "cell_type": "markdown",
   "id": "ca39efe5",
   "metadata": {},
   "source": [
    "It looks like when I split on the genres, duplicate rows were created for each row that had multiple genres. To remedy this, I simply dropped all duplicates of the `primaryTitle` rows, while keeping the first instance of the title."
   ]
  },
  {
   "cell_type": "code",
   "execution_count": 20,
   "id": "32e3ac0b",
   "metadata": {},
   "outputs": [
    {
     "data": {
      "text/plain": [
       "0         False\n",
       "1          True\n",
       "2          True\n",
       "3         False\n",
       "4         False\n",
       "          ...  \n",
       "426031     True\n",
       "426032    False\n",
       "426033     True\n",
       "426034     True\n",
       "426035    False\n",
       "Name: primaryTitle, Length: 426036, dtype: bool"
      ]
     },
     "execution_count": 20,
     "metadata": {},
     "output_type": "execute_result"
    }
   ],
   "source": [
    "movies_one_genre['primaryTitle'].duplicated()"
   ]
  },
  {
   "cell_type": "code",
   "execution_count": 21,
   "id": "19d2ec40",
   "metadata": {
    "scrolled": true
   },
   "outputs": [
    {
     "data": {
      "text/html": [
       "<div>\n",
       "<style scoped>\n",
       "    .dataframe tbody tr th:only-of-type {\n",
       "        vertical-align: middle;\n",
       "    }\n",
       "\n",
       "    .dataframe tbody tr th {\n",
       "        vertical-align: top;\n",
       "    }\n",
       "\n",
       "    .dataframe thead th {\n",
       "        text-align: right;\n",
       "    }\n",
       "</style>\n",
       "<table border=\"1\" class=\"dataframe\">\n",
       "  <thead>\n",
       "    <tr style=\"text-align: right;\">\n",
       "      <th></th>\n",
       "      <th>tconst</th>\n",
       "      <th>primaryTitle</th>\n",
       "      <th>isAdult</th>\n",
       "      <th>startYear</th>\n",
       "      <th>runtimeMinutes</th>\n",
       "      <th>genres</th>\n",
       "      <th>averageRating</th>\n",
       "      <th>numVotes</th>\n",
       "    </tr>\n",
       "  </thead>\n",
       "  <tbody>\n",
       "    <tr>\n",
       "      <th>0</th>\n",
       "      <td>tt0000574</td>\n",
       "      <td>The Story of the Kelly Gang</td>\n",
       "      <td>0.0</td>\n",
       "      <td>1906.0</td>\n",
       "      <td>70.0</td>\n",
       "      <td>Action</td>\n",
       "      <td>6.1</td>\n",
       "      <td>747</td>\n",
       "    </tr>\n",
       "    <tr>\n",
       "      <th>1</th>\n",
       "      <td>tt0000591</td>\n",
       "      <td>The Prodigal Son</td>\n",
       "      <td>0.0</td>\n",
       "      <td>1907.0</td>\n",
       "      <td>90.0</td>\n",
       "      <td>Drama</td>\n",
       "      <td>5.2</td>\n",
       "      <td>16</td>\n",
       "    </tr>\n",
       "    <tr>\n",
       "      <th>2</th>\n",
       "      <td>tt0000679</td>\n",
       "      <td>The Fairylogue and Radio-Plays</td>\n",
       "      <td>0.0</td>\n",
       "      <td>1908.0</td>\n",
       "      <td>120.0</td>\n",
       "      <td>Adventure</td>\n",
       "      <td>5.3</td>\n",
       "      <td>65</td>\n",
       "    </tr>\n",
       "    <tr>\n",
       "      <th>3</th>\n",
       "      <td>tt0001184</td>\n",
       "      <td>Don Juan de Serrallonga</td>\n",
       "      <td>0.0</td>\n",
       "      <td>1910.0</td>\n",
       "      <td>58.0</td>\n",
       "      <td>Adventure</td>\n",
       "      <td>3.9</td>\n",
       "      <td>20</td>\n",
       "    </tr>\n",
       "    <tr>\n",
       "      <th>4</th>\n",
       "      <td>tt0001258</td>\n",
       "      <td>The White Slave Trade</td>\n",
       "      <td>0.0</td>\n",
       "      <td>1910.0</td>\n",
       "      <td>45.0</td>\n",
       "      <td>Drama</td>\n",
       "      <td>5.7</td>\n",
       "      <td>139</td>\n",
       "    </tr>\n",
       "  </tbody>\n",
       "</table>\n",
       "</div>"
      ],
      "text/plain": [
       "      tconst                    primaryTitle  isAdult  startYear  \\\n",
       "0  tt0000574     The Story of the Kelly Gang      0.0     1906.0   \n",
       "1  tt0000591                The Prodigal Son      0.0     1907.0   \n",
       "2  tt0000679  The Fairylogue and Radio-Plays      0.0     1908.0   \n",
       "3  tt0001184         Don Juan de Serrallonga      0.0     1910.0   \n",
       "4  tt0001258           The White Slave Trade      0.0     1910.0   \n",
       "\n",
       "   runtimeMinutes     genres  averageRating  numVotes  \n",
       "0            70.0     Action            6.1       747  \n",
       "1            90.0      Drama            5.2        16  \n",
       "2           120.0  Adventure            5.3        65  \n",
       "3            58.0  Adventure            3.9        20  \n",
       "4            45.0      Drama            5.7       139  "
      ]
     },
     "execution_count": 21,
     "metadata": {},
     "output_type": "execute_result"
    }
   ],
   "source": [
    "movies_one_genre.drop_duplicates(subset=['primaryTitle'], keep='first', inplace=True, ignore_index=True)\n",
    "movies_one_genre.head()"
   ]
  },
  {
   "cell_type": "markdown",
   "id": "53331086",
   "metadata": {},
   "source": [
    "#### (11) Renaming Columns For Consistency"
   ]
  },
  {
   "cell_type": "markdown",
   "id": "566bc22d",
   "metadata": {},
   "source": [
    "Now that I have all of my columns in the right data type and missing values have been accounted for, the next thing I wanted to do was change some of the column names so that they were more consistent and in line with what I am used to. The column names were encoded using camel case, though I have been more used to the convention of using underscores for variables with multiple words. Also I felt that I could simplify the wording for some of the columns to make coding a little more streamlined."
   ]
  },
  {
   "cell_type": "code",
   "execution_count": 22,
   "id": "247ff7ce",
   "metadata": {},
   "outputs": [
    {
     "data": {
      "text/html": [
       "<div>\n",
       "<style scoped>\n",
       "    .dataframe tbody tr th:only-of-type {\n",
       "        vertical-align: middle;\n",
       "    }\n",
       "\n",
       "    .dataframe tbody tr th {\n",
       "        vertical-align: top;\n",
       "    }\n",
       "\n",
       "    .dataframe thead th {\n",
       "        text-align: right;\n",
       "    }\n",
       "</style>\n",
       "<table border=\"1\" class=\"dataframe\">\n",
       "  <thead>\n",
       "    <tr style=\"text-align: right;\">\n",
       "      <th></th>\n",
       "      <th>id</th>\n",
       "      <th>title</th>\n",
       "      <th>is_adult</th>\n",
       "      <th>release_year</th>\n",
       "      <th>runtime</th>\n",
       "      <th>genres</th>\n",
       "      <th>rating</th>\n",
       "      <th>votes</th>\n",
       "    </tr>\n",
       "  </thead>\n",
       "  <tbody>\n",
       "    <tr>\n",
       "      <th>0</th>\n",
       "      <td>tt0000574</td>\n",
       "      <td>The Story of the Kelly Gang</td>\n",
       "      <td>0.0</td>\n",
       "      <td>1906.0</td>\n",
       "      <td>70.0</td>\n",
       "      <td>Action</td>\n",
       "      <td>6.1</td>\n",
       "      <td>747</td>\n",
       "    </tr>\n",
       "    <tr>\n",
       "      <th>1</th>\n",
       "      <td>tt0000591</td>\n",
       "      <td>The Prodigal Son</td>\n",
       "      <td>0.0</td>\n",
       "      <td>1907.0</td>\n",
       "      <td>90.0</td>\n",
       "      <td>Drama</td>\n",
       "      <td>5.2</td>\n",
       "      <td>16</td>\n",
       "    </tr>\n",
       "    <tr>\n",
       "      <th>2</th>\n",
       "      <td>tt0000679</td>\n",
       "      <td>The Fairylogue and Radio-Plays</td>\n",
       "      <td>0.0</td>\n",
       "      <td>1908.0</td>\n",
       "      <td>120.0</td>\n",
       "      <td>Adventure</td>\n",
       "      <td>5.3</td>\n",
       "      <td>65</td>\n",
       "    </tr>\n",
       "    <tr>\n",
       "      <th>3</th>\n",
       "      <td>tt0001184</td>\n",
       "      <td>Don Juan de Serrallonga</td>\n",
       "      <td>0.0</td>\n",
       "      <td>1910.0</td>\n",
       "      <td>58.0</td>\n",
       "      <td>Adventure</td>\n",
       "      <td>3.9</td>\n",
       "      <td>20</td>\n",
       "    </tr>\n",
       "    <tr>\n",
       "      <th>4</th>\n",
       "      <td>tt0001258</td>\n",
       "      <td>The White Slave Trade</td>\n",
       "      <td>0.0</td>\n",
       "      <td>1910.0</td>\n",
       "      <td>45.0</td>\n",
       "      <td>Drama</td>\n",
       "      <td>5.7</td>\n",
       "      <td>139</td>\n",
       "    </tr>\n",
       "  </tbody>\n",
       "</table>\n",
       "</div>"
      ],
      "text/plain": [
       "          id                           title  is_adult  release_year  runtime  \\\n",
       "0  tt0000574     The Story of the Kelly Gang       0.0        1906.0     70.0   \n",
       "1  tt0000591                The Prodigal Son       0.0        1907.0     90.0   \n",
       "2  tt0000679  The Fairylogue and Radio-Plays       0.0        1908.0    120.0   \n",
       "3  tt0001184         Don Juan de Serrallonga       0.0        1910.0     58.0   \n",
       "4  tt0001258           The White Slave Trade       0.0        1910.0     45.0   \n",
       "\n",
       "      genres  rating  votes  \n",
       "0     Action     6.1    747  \n",
       "1      Drama     5.2     16  \n",
       "2  Adventure     5.3     65  \n",
       "3  Adventure     3.9     20  \n",
       "4      Drama     5.7    139  "
      ]
     },
     "execution_count": 22,
     "metadata": {},
     "output_type": "execute_result"
    }
   ],
   "source": [
    "# rename columns for convention and easier coding\n",
    "movies_final = movies_one_genre.rename(columns={'tconst':'id', \n",
    "                                              'primaryTitle':'title', \n",
    "                                              'isAdult':'is_adult',\n",
    "                                              'startYear':'release_year',\n",
    "                                              'runtimeMinutes':'runtime', \n",
    "                                              'averageRating':'rating', \n",
    "                                              'numVotes':'votes'})\n",
    "movies_final.head()"
   ]
  },
  {
   "cell_type": "code",
   "execution_count": 23,
   "id": "d81c74f2-9ad0-47e2-b47f-e6178d6385ee",
   "metadata": {},
   "outputs": [],
   "source": [
    "# create csv of final df to use in other notebooks\n",
    "movies_final.to_csv('final_flat_file_df.csv')"
   ]
  }
 ],
 "metadata": {
  "kernelspec": {
   "display_name": "Python 3",
   "language": "python",
   "name": "python3"
  },
  "language_info": {
   "codemirror_mode": {
    "name": "ipython",
    "version": 3
   },
   "file_extension": ".py",
   "mimetype": "text/x-python",
   "name": "python",
   "nbconvert_exporter": "python",
   "pygments_lexer": "ipython3",
   "version": "3.8.8"
  }
 },
 "nbformat": 4,
 "nbformat_minor": 5
}
