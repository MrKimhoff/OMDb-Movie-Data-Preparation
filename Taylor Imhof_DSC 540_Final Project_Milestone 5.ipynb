{
 "cells": [
  {
   "cell_type": "markdown",
   "id": "a5a255bd-d64f-4a04-8923-51e407b5c298",
   "metadata": {
    "pycharm": {
     "name": "#%% md\n"
    }
   },
   "source": [
    "# Taylor Imhof\n",
    "# Bellevue University | DSC 540\n",
    "# Final Project Milestone 5\n",
    "# 3/2/2022"
   ]
  },
  {
   "cell_type": "markdown",
   "id": "6d542feb-c3cb-485c-ad44-3a12d7a40b0d",
   "metadata": {
    "pycharm": {
     "name": "#%% md\n"
    }
   },
   "source": [
    "# Milestone 5: Merging the Data and Storing in a Database/Visualizing Data"
   ]
  },
  {
   "cell_type": "markdown",
   "id": "35d2f948-baa0-45ce-9268-760a6f7c4254",
   "metadata": {
    "pycharm": {
     "name": "#%% md\n"
    }
   },
   "source": [
    "## Database Interactions"
   ]
  },
  {
   "cell_type": "markdown",
   "id": "d089e057-2631-41ba-86a3-462ca5ea0196",
   "metadata": {
    "pycharm": {
     "name": "#%% md\n"
    }
   },
   "source": [
    "#### Load Each Dataset Into Individual Tables"
   ]
  },
  {
   "cell_type": "code",
   "execution_count": 1,
   "id": "4ba45b07-4753-4457-a7af-76c776049ca1",
   "metadata": {
    "pycharm": {
     "name": "#%%\n"
    }
   },
   "outputs": [],
   "source": [
    "# load required libraries\n",
    "import pandas as pd\n",
    "import sqlite3 as sql\n",
    "import matplotlib.pyplot as plt\n",
    "import seaborn as sns\n",
    "import sqlalchemy"
   ]
  },
  {
   "cell_type": "code",
   "execution_count": 2,
   "id": "31b74663-174f-421f-adef-1c89d980ab7c",
   "metadata": {
    "pycharm": {
     "name": "#%%\n"
    }
   },
   "outputs": [],
   "source": [
    "# get three datasets into dataframes from csv files\n",
    "df1 = pd.read_csv('final_flat_file_data.csv', index_col=0)\n",
    "df2 = pd.read_csv('final_website_data.csv', index_col=0)\n",
    "df3 = pd.read_csv('final_api_data.csv', index_col=0)"
   ]
  },
  {
   "cell_type": "markdown",
   "id": "a712e6b8-f9a2-4d0e-b36c-de107b70bf9c",
   "metadata": {
    "pycharm": {
     "name": "#%% md\n"
    }
   },
   "source": [
    "View first five observations from each dataframe to ensure they were loaded properly"
   ]
  },
  {
   "cell_type": "code",
   "execution_count": 3,
   "id": "c7e791ed-10a3-4979-978f-9222cd17f4b3",
   "metadata": {
    "pycharm": {
     "name": "#%%\n"
    }
   },
   "outputs": [
    {
     "data": {
      "text/html": [
       "<div>\n",
       "<style scoped>\n",
       "    .dataframe tbody tr th:only-of-type {\n",
       "        vertical-align: middle;\n",
       "    }\n",
       "\n",
       "    .dataframe tbody tr th {\n",
       "        vertical-align: top;\n",
       "    }\n",
       "\n",
       "    .dataframe thead th {\n",
       "        text-align: right;\n",
       "    }\n",
       "</style>\n",
       "<table border=\"1\" class=\"dataframe\">\n",
       "  <thead>\n",
       "    <tr style=\"text-align: right;\">\n",
       "      <th></th>\n",
       "      <th>id</th>\n",
       "      <th>title</th>\n",
       "      <th>is_adult</th>\n",
       "      <th>release_year</th>\n",
       "      <th>runtime</th>\n",
       "      <th>genres</th>\n",
       "      <th>rating</th>\n",
       "      <th>votes</th>\n",
       "    </tr>\n",
       "  </thead>\n",
       "  <tbody>\n",
       "    <tr>\n",
       "      <th>0</th>\n",
       "      <td>tt0000574</td>\n",
       "      <td>The Story of the Kelly Gang</td>\n",
       "      <td>0.0</td>\n",
       "      <td>1906.0</td>\n",
       "      <td>70.0</td>\n",
       "      <td>Action</td>\n",
       "      <td>6.1</td>\n",
       "      <td>747</td>\n",
       "    </tr>\n",
       "    <tr>\n",
       "      <th>1</th>\n",
       "      <td>tt0000591</td>\n",
       "      <td>The Prodigal Son</td>\n",
       "      <td>0.0</td>\n",
       "      <td>1907.0</td>\n",
       "      <td>90.0</td>\n",
       "      <td>Drama</td>\n",
       "      <td>5.2</td>\n",
       "      <td>16</td>\n",
       "    </tr>\n",
       "    <tr>\n",
       "      <th>2</th>\n",
       "      <td>tt0000679</td>\n",
       "      <td>The Fairylogue and Radio-Plays</td>\n",
       "      <td>0.0</td>\n",
       "      <td>1908.0</td>\n",
       "      <td>120.0</td>\n",
       "      <td>Adventure</td>\n",
       "      <td>5.3</td>\n",
       "      <td>65</td>\n",
       "    </tr>\n",
       "    <tr>\n",
       "      <th>3</th>\n",
       "      <td>tt0001184</td>\n",
       "      <td>Don Juan de Serrallonga</td>\n",
       "      <td>0.0</td>\n",
       "      <td>1910.0</td>\n",
       "      <td>58.0</td>\n",
       "      <td>Adventure</td>\n",
       "      <td>3.9</td>\n",
       "      <td>20</td>\n",
       "    </tr>\n",
       "    <tr>\n",
       "      <th>4</th>\n",
       "      <td>tt0001258</td>\n",
       "      <td>The White Slave Trade</td>\n",
       "      <td>0.0</td>\n",
       "      <td>1910.0</td>\n",
       "      <td>45.0</td>\n",
       "      <td>Drama</td>\n",
       "      <td>5.7</td>\n",
       "      <td>139</td>\n",
       "    </tr>\n",
       "  </tbody>\n",
       "</table>\n",
       "</div>"
      ],
      "text/plain": [
       "          id                           title  is_adult  release_year  runtime  \\\n",
       "0  tt0000574     The Story of the Kelly Gang       0.0        1906.0     70.0   \n",
       "1  tt0000591                The Prodigal Son       0.0        1907.0     90.0   \n",
       "2  tt0000679  The Fairylogue and Radio-Plays       0.0        1908.0    120.0   \n",
       "3  tt0001184         Don Juan de Serrallonga       0.0        1910.0     58.0   \n",
       "4  tt0001258           The White Slave Trade       0.0        1910.0     45.0   \n",
       "\n",
       "      genres  rating  votes  \n",
       "0     Action     6.1    747  \n",
       "1      Drama     5.2     16  \n",
       "2  Adventure     5.3     65  \n",
       "3  Adventure     3.9     20  \n",
       "4      Drama     5.7    139  "
      ]
     },
     "execution_count": 3,
     "metadata": {},
     "output_type": "execute_result"
    }
   ],
   "source": [
    "df1.head()"
   ]
  },
  {
   "cell_type": "code",
   "execution_count": 4,
   "id": "7e2d845f-d435-4d9d-81dc-1836cc88b468",
   "metadata": {
    "tags": [],
    "pycharm": {
     "name": "#%%\n"
    }
   },
   "outputs": [
    {
     "data": {
      "text/html": [
       "<div>\n",
       "<style scoped>\n",
       "    .dataframe tbody tr th:only-of-type {\n",
       "        vertical-align: middle;\n",
       "    }\n",
       "\n",
       "    .dataframe tbody tr th {\n",
       "        vertical-align: top;\n",
       "    }\n",
       "\n",
       "    .dataframe thead th {\n",
       "        text-align: right;\n",
       "    }\n",
       "</style>\n",
       "<table border=\"1\" class=\"dataframe\">\n",
       "  <thead>\n",
       "    <tr style=\"text-align: right;\">\n",
       "      <th></th>\n",
       "      <th>release_date</th>\n",
       "      <th>title</th>\n",
       "      <th>production_budget</th>\n",
       "      <th>domestic_gross</th>\n",
       "      <th>worldwide_gross</th>\n",
       "    </tr>\n",
       "  </thead>\n",
       "  <tbody>\n",
       "    <tr>\n",
       "      <th>0</th>\n",
       "      <td>Apr 23, 2019</td>\n",
       "      <td>Avengers: Endgame</td>\n",
       "      <td>400000000.0</td>\n",
       "      <td>858373000.0</td>\n",
       "      <td>2.797801e+09</td>\n",
       "    </tr>\n",
       "    <tr>\n",
       "      <th>1</th>\n",
       "      <td>May 20, 2011</td>\n",
       "      <td>Pirates of the Caribbean: On Stranger Tides</td>\n",
       "      <td>379000000.0</td>\n",
       "      <td>241071802.0</td>\n",
       "      <td>1.045714e+09</td>\n",
       "    </tr>\n",
       "    <tr>\n",
       "      <th>2</th>\n",
       "      <td>Apr 22, 2015</td>\n",
       "      <td>Avengers: Age of Ultron</td>\n",
       "      <td>365000000.0</td>\n",
       "      <td>459005868.0</td>\n",
       "      <td>1.395317e+09</td>\n",
       "    </tr>\n",
       "    <tr>\n",
       "      <th>3</th>\n",
       "      <td>Dec 16, 2015</td>\n",
       "      <td>Star Wars Ep. VII: The Force Awakens</td>\n",
       "      <td>306000000.0</td>\n",
       "      <td>936662225.0</td>\n",
       "      <td>2.064616e+09</td>\n",
       "    </tr>\n",
       "    <tr>\n",
       "      <th>4</th>\n",
       "      <td>Apr 25, 2018</td>\n",
       "      <td>Avengers: Infinity War</td>\n",
       "      <td>300000000.0</td>\n",
       "      <td>678815482.0</td>\n",
       "      <td>2.048360e+09</td>\n",
       "    </tr>\n",
       "  </tbody>\n",
       "</table>\n",
       "</div>"
      ],
      "text/plain": [
       "   release_date                                        title  \\\n",
       "0  Apr 23, 2019                            Avengers: Endgame   \n",
       "1  May 20, 2011  Pirates of the Caribbean: On Stranger Tides   \n",
       "2  Apr 22, 2015                      Avengers: Age of Ultron   \n",
       "3  Dec 16, 2015         Star Wars Ep. VII: The Force Awakens   \n",
       "4  Apr 25, 2018                       Avengers: Infinity War   \n",
       "\n",
       "   production_budget  domestic_gross  worldwide_gross  \n",
       "0        400000000.0     858373000.0     2.797801e+09  \n",
       "1        379000000.0     241071802.0     1.045714e+09  \n",
       "2        365000000.0     459005868.0     1.395317e+09  \n",
       "3        306000000.0     936662225.0     2.064616e+09  \n",
       "4        300000000.0     678815482.0     2.048360e+09  "
      ]
     },
     "execution_count": 4,
     "metadata": {},
     "output_type": "execute_result"
    }
   ],
   "source": [
    "df2.head()"
   ]
  },
  {
   "cell_type": "code",
   "execution_count": 5,
   "id": "f0526287-f078-4cd8-8b0d-133540d7bc87",
   "metadata": {
    "tags": [],
    "pycharm": {
     "name": "#%%\n"
    }
   },
   "outputs": [
    {
     "data": {
      "text/html": [
       "<div>\n",
       "<style scoped>\n",
       "    .dataframe tbody tr th:only-of-type {\n",
       "        vertical-align: middle;\n",
       "    }\n",
       "\n",
       "    .dataframe tbody tr th {\n",
       "        vertical-align: top;\n",
       "    }\n",
       "\n",
       "    .dataframe thead th {\n",
       "        text-align: right;\n",
       "    }\n",
       "</style>\n",
       "<table border=\"1\" class=\"dataframe\">\n",
       "  <thead>\n",
       "    <tr style=\"text-align: right;\">\n",
       "      <th></th>\n",
       "      <th>title</th>\n",
       "      <th>year</th>\n",
       "      <th>rated</th>\n",
       "      <th>genre</th>\n",
       "      <th>country</th>\n",
       "      <th>imdb_id</th>\n",
       "      <th>imdb_rating</th>\n",
       "      <th>imdb_votes</th>\n",
       "      <th>metascore</th>\n",
       "    </tr>\n",
       "  </thead>\n",
       "  <tbody>\n",
       "    <tr>\n",
       "      <th>0</th>\n",
       "      <td>Avengers: Endgame</td>\n",
       "      <td>2019.0</td>\n",
       "      <td>PG-13</td>\n",
       "      <td>Action</td>\n",
       "      <td>United States</td>\n",
       "      <td>tt4154796</td>\n",
       "      <td>8.4</td>\n",
       "      <td>1016281.0</td>\n",
       "      <td>78.0</td>\n",
       "    </tr>\n",
       "    <tr>\n",
       "      <th>1</th>\n",
       "      <td>Pirates of the Caribbean: On Stranger Tides</td>\n",
       "      <td>2011.0</td>\n",
       "      <td>PG-13</td>\n",
       "      <td>Action</td>\n",
       "      <td>United States</td>\n",
       "      <td>tt1298650</td>\n",
       "      <td>6.6</td>\n",
       "      <td>507945.0</td>\n",
       "      <td>45.0</td>\n",
       "    </tr>\n",
       "    <tr>\n",
       "      <th>2</th>\n",
       "      <td>Avengers: Age of Ultron</td>\n",
       "      <td>2015.0</td>\n",
       "      <td>PG-13</td>\n",
       "      <td>Action</td>\n",
       "      <td>United States</td>\n",
       "      <td>tt2395427</td>\n",
       "      <td>7.3</td>\n",
       "      <td>818321.0</td>\n",
       "      <td>66.0</td>\n",
       "    </tr>\n",
       "    <tr>\n",
       "      <th>3</th>\n",
       "      <td>Avengers: Infinity War</td>\n",
       "      <td>2018.0</td>\n",
       "      <td>PG-13</td>\n",
       "      <td>Action</td>\n",
       "      <td>United States</td>\n",
       "      <td>tt4154756</td>\n",
       "      <td>8.4</td>\n",
       "      <td>983926.0</td>\n",
       "      <td>68.0</td>\n",
       "    </tr>\n",
       "    <tr>\n",
       "      <th>4</th>\n",
       "      <td>Pirates of the Caribbean: At World's End</td>\n",
       "      <td>2007.0</td>\n",
       "      <td>PG-13</td>\n",
       "      <td>Action</td>\n",
       "      <td>United States</td>\n",
       "      <td>tt0449088</td>\n",
       "      <td>7.1</td>\n",
       "      <td>625898.0</td>\n",
       "      <td>50.0</td>\n",
       "    </tr>\n",
       "  </tbody>\n",
       "</table>\n",
       "</div>"
      ],
      "text/plain": [
       "                                         title    year  rated   genre  \\\n",
       "0                            Avengers: Endgame  2019.0  PG-13  Action   \n",
       "1  Pirates of the Caribbean: On Stranger Tides  2011.0  PG-13  Action   \n",
       "2                      Avengers: Age of Ultron  2015.0  PG-13  Action   \n",
       "3                       Avengers: Infinity War  2018.0  PG-13  Action   \n",
       "4     Pirates of the Caribbean: At World's End  2007.0  PG-13  Action   \n",
       "\n",
       "         country    imdb_id  imdb_rating  imdb_votes  metascore  \n",
       "0  United States  tt4154796          8.4   1016281.0       78.0  \n",
       "1  United States  tt1298650          6.6    507945.0       45.0  \n",
       "2  United States  tt2395427          7.3    818321.0       66.0  \n",
       "3  United States  tt4154756          8.4    983926.0       68.0  \n",
       "4  United States  tt0449088          7.1    625898.0       50.0  "
      ]
     },
     "execution_count": 5,
     "metadata": {},
     "output_type": "execute_result"
    }
   ],
   "source": [
    "df3.head()"
   ]
  },
  {
   "cell_type": "markdown",
   "id": "07da5411-c77f-4f12-9344-0d94000e31e5",
   "metadata": {
    "pycharm": {
     "name": "#%% md\n"
    }
   },
   "source": [
    "#### Create DB Connection and Create SQL Tables From Pandas Dataframe"
   ]
  },
  {
   "cell_type": "code",
   "execution_count": 6,
   "id": "d0e08a38-a20b-4385-bef6-1bf6174bfad0",
   "metadata": {
    "pycharm": {
     "name": "#%%\n"
    }
   },
   "outputs": [],
   "source": [
    "# create sqlite3 connection\n",
    "con = sql.connect('movies.db')"
   ]
  },
  {
   "cell_type": "code",
   "execution_count": 7,
   "id": "840bcb50-ea36-4efd-a9e3-9b83f1f4bd6d",
   "metadata": {
    "pycharm": {
     "name": "#%%\n"
    }
   },
   "outputs": [],
   "source": [
    "# create new cursor object\n",
    "cursor = con.cursor()"
   ]
  },
  {
   "cell_type": "code",
   "execution_count": 8,
   "id": "13579758-da32-406d-9eb2-174e396bfe54",
   "metadata": {
    "pycharm": {
     "name": "#%%\n"
    }
   },
   "outputs": [],
   "source": [
    "# create sql tables from pd dfs\n",
    "df1.to_sql('flat_file_data', con, if_exists='replace', index=False)\n",
    "df2.to_sql('website_scrape_data', con, if_exists='replace', index=False)\n",
    "df3.to_sql('api_pull_data', con, if_exists='replace', index=False)"
   ]
  },
  {
   "cell_type": "code",
   "execution_count": 9,
   "id": "66584748-9a62-4853-9902-d7485ff2e4c9",
   "metadata": {
    "pycharm": {
     "name": "#%%\n"
    }
   },
   "outputs": [
    {
     "name": "stdout",
     "output_type": "stream",
     "text": [
      "('tt0000574', 'The Story of the Kelly Gang', 0.0, 1906.0, 70.0, 'Action', 6.1, 747)\n",
      "('tt0000591', 'The Prodigal Son', 0.0, 1907.0, 90.0, 'Drama', 5.2, 16)\n",
      "('tt0000679', 'The Fairylogue and Radio-Plays', 0.0, 1908.0, 120.0, 'Adventure', 5.3, 65)\n",
      "('tt0001184', 'Don Juan de Serrallonga', 0.0, 1910.0, 58.0, 'Adventure', 3.9, 20)\n",
      "('tt0001258', 'The White Slave Trade', 0.0, 1910.0, 45.0, 'Drama', 5.7, 139)\n"
     ]
    }
   ],
   "source": [
    "# retrieve first 5 rows to check if data stored succesfully\n",
    "df1_rows = cursor.execute('SELECT * FROM flat_file_data LIMIT 5')\n",
    "for row in df1_rows:\n",
    "    print(row)"
   ]
  },
  {
   "cell_type": "code",
   "execution_count": 10,
   "id": "a2e5c90c-3c1b-43c7-a058-62569b2f49b7",
   "metadata": {
    "pycharm": {
     "name": "#%%\n"
    }
   },
   "outputs": [
    {
     "name": "stdout",
     "output_type": "stream",
     "text": [
      "('Apr 23, 2019', 'Avengers: Endgame', 400000000.0, 858373000.0, 2797800564.0)\n",
      "('May 20, 2011', 'Pirates of the Caribbean: On Stranger Tides', 379000000.0, 241071802.0, 1045713802.0)\n",
      "('Apr 22, 2015', 'Avengers: Age of Ultron', 365000000.0, 459005868.0, 1395316979.0)\n",
      "('Dec 16, 2015', 'Star Wars Ep. VII: The Force Awakens', 306000000.0, 936662225.0, 2064615817.0)\n",
      "('Apr 25, 2018', 'Avengers: Infinity War', 300000000.0, 678815482.0, 2048359754.0)\n"
     ]
    }
   ],
   "source": [
    "# retrieve first 5 rows to check if data stored succesfully\n",
    "df2_rows = cursor.execute('SELECT * FROM website_scrape_data LIMIT 5')\n",
    "for row in df1_rows:\n",
    "    print(row)"
   ]
  },
  {
   "cell_type": "code",
   "execution_count": 11,
   "id": "db603741-c856-4621-b67f-fc3accdf1504",
   "metadata": {
    "pycharm": {
     "name": "#%%\n"
    }
   },
   "outputs": [
    {
     "name": "stdout",
     "output_type": "stream",
     "text": [
      "('Avengers: Endgame', 2019.0, 'PG-13', 'Action', 'United States', 'tt4154796', 8.4, 1016281.0, 78.0)\n",
      "('Pirates of the Caribbean: On Stranger Tides', 2011.0, 'PG-13', 'Action', 'United States', 'tt1298650', 6.6, 507945.0, 45.0)\n",
      "('Avengers: Age of Ultron', 2015.0, 'PG-13', 'Action', 'United States', 'tt2395427', 7.3, 818321.0, 66.0)\n",
      "('Avengers: Infinity War', 2018.0, 'PG-13', 'Action', 'United States', 'tt4154756', 8.4, 983926.0, 68.0)\n",
      "(\"Pirates of the Caribbean: At World's End\", 2007.0, 'PG-13', 'Action', 'United States', 'tt0449088', 7.1, 625898.0, 50.0)\n"
     ]
    }
   ],
   "source": [
    "# retrieve first 5 rows to check if data stored succesfully\n",
    "df3_rows = cursor.execute('SELECT * FROM api_pull_data LIMIT 5')\n",
    "for row in df1_rows:\n",
    "    print(row)"
   ]
  },
  {
   "cell_type": "markdown",
   "id": "580f4d20-900e-4f66-b663-a9da9390f4c5",
   "metadata": {
    "pycharm": {
     "name": "#%% md\n"
    }
   },
   "source": [
    "#### Join Two Tables Using SQL Syntax"
   ]
  },
  {
   "cell_type": "markdown",
   "id": "2636f4a7-5f0d-4f94-a316-94b765645a0c",
   "metadata": {
    "pycharm": {
     "name": "#%% md\n"
    }
   },
   "source": [
    "To join the data from the flat file with the data from the API pull, I was lucky enough that both sets contained a unique identifier `imdb_id`. I was able to join them using a basic SQL JOIN statement, making sure the ON clause contained each tables respective column name for this unique ID."
   ]
  },
  {
   "cell_type": "code",
   "execution_count": 12,
   "id": "460fda67-fa38-475e-85e8-08df96382770",
   "metadata": {
    "pycharm": {
     "name": "#%%\n"
    }
   },
   "outputs": [
    {
     "data": {
      "text/html": [
       "<div>\n",
       "<style scoped>\n",
       "    .dataframe tbody tr th:only-of-type {\n",
       "        vertical-align: middle;\n",
       "    }\n",
       "\n",
       "    .dataframe tbody tr th {\n",
       "        vertical-align: top;\n",
       "    }\n",
       "\n",
       "    .dataframe thead th {\n",
       "        text-align: right;\n",
       "    }\n",
       "</style>\n",
       "<table border=\"1\" class=\"dataframe\">\n",
       "  <thead>\n",
       "    <tr style=\"text-align: right;\">\n",
       "      <th></th>\n",
       "      <th>id</th>\n",
       "      <th>title</th>\n",
       "      <th>is_adult</th>\n",
       "      <th>release_year</th>\n",
       "      <th>runtime</th>\n",
       "      <th>genres</th>\n",
       "      <th>rating</th>\n",
       "      <th>votes</th>\n",
       "      <th>title</th>\n",
       "      <th>year</th>\n",
       "      <th>rated</th>\n",
       "      <th>genre</th>\n",
       "      <th>country</th>\n",
       "      <th>imdb_id</th>\n",
       "      <th>imdb_rating</th>\n",
       "      <th>imdb_votes</th>\n",
       "      <th>metascore</th>\n",
       "    </tr>\n",
       "  </thead>\n",
       "  <tbody>\n",
       "    <tr>\n",
       "      <th>0</th>\n",
       "      <td>tt0033563</td>\n",
       "      <td>Dumbo</td>\n",
       "      <td>0.0</td>\n",
       "      <td>1941.0</td>\n",
       "      <td>64.0</td>\n",
       "      <td>Adventure</td>\n",
       "      <td>7.2</td>\n",
       "      <td>127904</td>\n",
       "      <td>Dumbo</td>\n",
       "      <td>1941.0</td>\n",
       "      <td>G</td>\n",
       "      <td>Animation</td>\n",
       "      <td>United States</td>\n",
       "      <td>tt0033563</td>\n",
       "      <td>7.2</td>\n",
       "      <td>128394.0</td>\n",
       "      <td>96.0</td>\n",
       "    </tr>\n",
       "    <tr>\n",
       "      <th>1</th>\n",
       "      <td>tt0052618</td>\n",
       "      <td>Ben-Hur</td>\n",
       "      <td>0.0</td>\n",
       "      <td>1959.0</td>\n",
       "      <td>212.0</td>\n",
       "      <td>Adventure</td>\n",
       "      <td>8.1</td>\n",
       "      <td>232232</td>\n",
       "      <td>Ben-Hur</td>\n",
       "      <td>1959.0</td>\n",
       "      <td>G</td>\n",
       "      <td>Adventure</td>\n",
       "      <td>United States</td>\n",
       "      <td>tt0052618</td>\n",
       "      <td>8.1</td>\n",
       "      <td>233022.0</td>\n",
       "      <td>90.0</td>\n",
       "    </tr>\n",
       "    <tr>\n",
       "      <th>2</th>\n",
       "      <td>tt0055614</td>\n",
       "      <td>West Side Story</td>\n",
       "      <td>0.0</td>\n",
       "      <td>1961.0</td>\n",
       "      <td>153.0</td>\n",
       "      <td>Crime</td>\n",
       "      <td>7.5</td>\n",
       "      <td>108140</td>\n",
       "      <td>West Side Story</td>\n",
       "      <td>1961.0</td>\n",
       "      <td>Approved</td>\n",
       "      <td>Crime</td>\n",
       "      <td>United States</td>\n",
       "      <td>tt0055614</td>\n",
       "      <td>7.5</td>\n",
       "      <td>108909.0</td>\n",
       "      <td>86.0</td>\n",
       "    </tr>\n",
       "    <tr>\n",
       "      <th>3</th>\n",
       "      <td>tt0077413</td>\n",
       "      <td>Death on the Nile</td>\n",
       "      <td>0.0</td>\n",
       "      <td>1978.0</td>\n",
       "      <td>140.0</td>\n",
       "      <td>Crime</td>\n",
       "      <td>7.3</td>\n",
       "      <td>31434</td>\n",
       "      <td>Death on the Nile</td>\n",
       "      <td>1978.0</td>\n",
       "      <td>PG</td>\n",
       "      <td>Crime</td>\n",
       "      <td>United Kingdom</td>\n",
       "      <td>tt0077413</td>\n",
       "      <td>7.3</td>\n",
       "      <td>31457.0</td>\n",
       "      <td>59.0</td>\n",
       "    </tr>\n",
       "    <tr>\n",
       "      <th>4</th>\n",
       "      <td>tt0082198</td>\n",
       "      <td>Conan the Barbarian</td>\n",
       "      <td>0.0</td>\n",
       "      <td>1982.0</td>\n",
       "      <td>129.0</td>\n",
       "      <td>Action</td>\n",
       "      <td>6.9</td>\n",
       "      <td>144948</td>\n",
       "      <td>Conan the Barbarian</td>\n",
       "      <td>1982.0</td>\n",
       "      <td>R</td>\n",
       "      <td>Action</td>\n",
       "      <td>United States</td>\n",
       "      <td>tt0082198</td>\n",
       "      <td>6.9</td>\n",
       "      <td>145470.0</td>\n",
       "      <td>43.0</td>\n",
       "    </tr>\n",
       "  </tbody>\n",
       "</table>\n",
       "</div>"
      ],
      "text/plain": [
       "          id                title  is_adult  release_year  runtime     genres  \\\n",
       "0  tt0033563                Dumbo       0.0        1941.0     64.0  Adventure   \n",
       "1  tt0052618              Ben-Hur       0.0        1959.0    212.0  Adventure   \n",
       "2  tt0055614      West Side Story       0.0        1961.0    153.0      Crime   \n",
       "3  tt0077413    Death on the Nile       0.0        1978.0    140.0      Crime   \n",
       "4  tt0082198  Conan the Barbarian       0.0        1982.0    129.0     Action   \n",
       "\n",
       "   rating   votes                title    year     rated      genre  \\\n",
       "0     7.2  127904                Dumbo  1941.0         G  Animation   \n",
       "1     8.1  232232              Ben-Hur  1959.0         G  Adventure   \n",
       "2     7.5  108140      West Side Story  1961.0  Approved      Crime   \n",
       "3     7.3   31434    Death on the Nile  1978.0        PG      Crime   \n",
       "4     6.9  144948  Conan the Barbarian  1982.0         R     Action   \n",
       "\n",
       "          country    imdb_id  imdb_rating  imdb_votes  metascore  \n",
       "0   United States  tt0033563          7.2    128394.0       96.0  \n",
       "1   United States  tt0052618          8.1    233022.0       90.0  \n",
       "2   United States  tt0055614          7.5    108909.0       86.0  \n",
       "3  United Kingdom  tt0077413          7.3     31457.0       59.0  \n",
       "4   United States  tt0082198          6.9    145470.0       43.0  "
      ]
     },
     "execution_count": 12,
     "metadata": {},
     "output_type": "execute_result"
    }
   ],
   "source": [
    "# join flat file data with api pull data on imdb_id\n",
    "flat_api_combined = pd.read_sql('SELECT * FROM flat_file_data JOIN api_pull_data ON api_pull_data.imdb_id = flat_file_data.id', con)\n",
    "flat_api_combined.head()"
   ]
  },
  {
   "cell_type": "code",
   "execution_count": 13,
   "id": "442a144d-a35a-49bf-80d3-3674e7f5c9d7",
   "metadata": {
    "pycharm": {
     "name": "#%%\n"
    }
   },
   "outputs": [
    {
     "data": {
      "text/plain": [
       "(737, 17)"
      ]
     },
     "execution_count": 13,
     "metadata": {},
     "output_type": "execute_result"
    }
   ],
   "source": [
    "# view dimensions of newly merged df\n",
    "flat_api_combined.shape"
   ]
  },
  {
   "cell_type": "markdown",
   "id": "69f8abdb-4121-488f-9202-6820f74569db",
   "metadata": {
    "pycharm": {
     "name": "#%% md\n"
    }
   },
   "source": [
    "During the SQL JOIN, there werew a few duplicated columns that were created. I went ahead and dropped those bad Larrys due to redundancy. There were also now two `title` columns, so I used the `duplicated()` function in tandem with the `loc` capability to drop one of the duplicated title columns."
   ]
  },
  {
   "cell_type": "code",
   "execution_count": 14,
   "id": "cd7b11f5-92a4-43bd-98e1-778831883370",
   "metadata": {
    "pycharm": {
     "name": "#%%\n"
    }
   },
   "outputs": [
    {
     "data": {
      "text/html": [
       "<div>\n",
       "<style scoped>\n",
       "    .dataframe tbody tr th:only-of-type {\n",
       "        vertical-align: middle;\n",
       "    }\n",
       "\n",
       "    .dataframe tbody tr th {\n",
       "        vertical-align: top;\n",
       "    }\n",
       "\n",
       "    .dataframe thead th {\n",
       "        text-align: right;\n",
       "    }\n",
       "</style>\n",
       "<table border=\"1\" class=\"dataframe\">\n",
       "  <thead>\n",
       "    <tr style=\"text-align: right;\">\n",
       "      <th></th>\n",
       "      <th>id</th>\n",
       "      <th>title</th>\n",
       "      <th>is_adult</th>\n",
       "      <th>release_year</th>\n",
       "      <th>runtime</th>\n",
       "      <th>title</th>\n",
       "      <th>rated</th>\n",
       "      <th>genre</th>\n",
       "      <th>country</th>\n",
       "      <th>imdb_rating</th>\n",
       "      <th>imdb_votes</th>\n",
       "      <th>metascore</th>\n",
       "    </tr>\n",
       "  </thead>\n",
       "  <tbody>\n",
       "    <tr>\n",
       "      <th>0</th>\n",
       "      <td>tt0033563</td>\n",
       "      <td>Dumbo</td>\n",
       "      <td>0.0</td>\n",
       "      <td>1941.0</td>\n",
       "      <td>64.0</td>\n",
       "      <td>Dumbo</td>\n",
       "      <td>G</td>\n",
       "      <td>Animation</td>\n",
       "      <td>United States</td>\n",
       "      <td>7.2</td>\n",
       "      <td>128394.0</td>\n",
       "      <td>96.0</td>\n",
       "    </tr>\n",
       "    <tr>\n",
       "      <th>1</th>\n",
       "      <td>tt0052618</td>\n",
       "      <td>Ben-Hur</td>\n",
       "      <td>0.0</td>\n",
       "      <td>1959.0</td>\n",
       "      <td>212.0</td>\n",
       "      <td>Ben-Hur</td>\n",
       "      <td>G</td>\n",
       "      <td>Adventure</td>\n",
       "      <td>United States</td>\n",
       "      <td>8.1</td>\n",
       "      <td>233022.0</td>\n",
       "      <td>90.0</td>\n",
       "    </tr>\n",
       "    <tr>\n",
       "      <th>2</th>\n",
       "      <td>tt0055614</td>\n",
       "      <td>West Side Story</td>\n",
       "      <td>0.0</td>\n",
       "      <td>1961.0</td>\n",
       "      <td>153.0</td>\n",
       "      <td>West Side Story</td>\n",
       "      <td>Approved</td>\n",
       "      <td>Crime</td>\n",
       "      <td>United States</td>\n",
       "      <td>7.5</td>\n",
       "      <td>108909.0</td>\n",
       "      <td>86.0</td>\n",
       "    </tr>\n",
       "    <tr>\n",
       "      <th>3</th>\n",
       "      <td>tt0077413</td>\n",
       "      <td>Death on the Nile</td>\n",
       "      <td>0.0</td>\n",
       "      <td>1978.0</td>\n",
       "      <td>140.0</td>\n",
       "      <td>Death on the Nile</td>\n",
       "      <td>PG</td>\n",
       "      <td>Crime</td>\n",
       "      <td>United Kingdom</td>\n",
       "      <td>7.3</td>\n",
       "      <td>31457.0</td>\n",
       "      <td>59.0</td>\n",
       "    </tr>\n",
       "    <tr>\n",
       "      <th>4</th>\n",
       "      <td>tt0082198</td>\n",
       "      <td>Conan the Barbarian</td>\n",
       "      <td>0.0</td>\n",
       "      <td>1982.0</td>\n",
       "      <td>129.0</td>\n",
       "      <td>Conan the Barbarian</td>\n",
       "      <td>R</td>\n",
       "      <td>Action</td>\n",
       "      <td>United States</td>\n",
       "      <td>6.9</td>\n",
       "      <td>145470.0</td>\n",
       "      <td>43.0</td>\n",
       "    </tr>\n",
       "  </tbody>\n",
       "</table>\n",
       "</div>"
      ],
      "text/plain": [
       "          id                title  is_adult  release_year  runtime  \\\n",
       "0  tt0033563                Dumbo       0.0        1941.0     64.0   \n",
       "1  tt0052618              Ben-Hur       0.0        1959.0    212.0   \n",
       "2  tt0055614      West Side Story       0.0        1961.0    153.0   \n",
       "3  tt0077413    Death on the Nile       0.0        1978.0    140.0   \n",
       "4  tt0082198  Conan the Barbarian       0.0        1982.0    129.0   \n",
       "\n",
       "                 title     rated      genre         country  imdb_rating  \\\n",
       "0                Dumbo         G  Animation   United States          7.2   \n",
       "1              Ben-Hur         G  Adventure   United States          8.1   \n",
       "2      West Side Story  Approved      Crime   United States          7.5   \n",
       "3    Death on the Nile        PG      Crime  United Kingdom          7.3   \n",
       "4  Conan the Barbarian         R     Action   United States          6.9   \n",
       "\n",
       "   imdb_votes  metascore  \n",
       "0    128394.0       96.0  \n",
       "1    233022.0       90.0  \n",
       "2    108909.0       86.0  \n",
       "3     31457.0       59.0  \n",
       "4    145470.0       43.0  "
      ]
     },
     "execution_count": 14,
     "metadata": {},
     "output_type": "execute_result"
    }
   ],
   "source": [
    "# drop duplicated columns created during join\n",
    "flat_api_combined.drop(['imdb_id', 'rating', 'votes', 'genres', 'year'], axis=1, inplace=True)\n",
    "flat_api_combined.head()"
   ]
  },
  {
   "cell_type": "code",
   "execution_count": 15,
   "id": "fb493e42-998b-4cf3-ba8d-959088537534",
   "metadata": {
    "pycharm": {
     "name": "#%%\n"
    }
   },
   "outputs": [
    {
     "data": {
      "text/html": [
       "<div>\n",
       "<style scoped>\n",
       "    .dataframe tbody tr th:only-of-type {\n",
       "        vertical-align: middle;\n",
       "    }\n",
       "\n",
       "    .dataframe tbody tr th {\n",
       "        vertical-align: top;\n",
       "    }\n",
       "\n",
       "    .dataframe thead th {\n",
       "        text-align: right;\n",
       "    }\n",
       "</style>\n",
       "<table border=\"1\" class=\"dataframe\">\n",
       "  <thead>\n",
       "    <tr style=\"text-align: right;\">\n",
       "      <th></th>\n",
       "      <th>id</th>\n",
       "      <th>title</th>\n",
       "      <th>is_adult</th>\n",
       "      <th>release_year</th>\n",
       "      <th>runtime</th>\n",
       "      <th>rated</th>\n",
       "      <th>genre</th>\n",
       "      <th>country</th>\n",
       "      <th>imdb_rating</th>\n",
       "      <th>imdb_votes</th>\n",
       "      <th>metascore</th>\n",
       "    </tr>\n",
       "  </thead>\n",
       "  <tbody>\n",
       "    <tr>\n",
       "      <th>0</th>\n",
       "      <td>tt0033563</td>\n",
       "      <td>Dumbo</td>\n",
       "      <td>0.0</td>\n",
       "      <td>1941.0</td>\n",
       "      <td>64.0</td>\n",
       "      <td>G</td>\n",
       "      <td>Animation</td>\n",
       "      <td>United States</td>\n",
       "      <td>7.2</td>\n",
       "      <td>128394.0</td>\n",
       "      <td>96.0</td>\n",
       "    </tr>\n",
       "    <tr>\n",
       "      <th>1</th>\n",
       "      <td>tt0052618</td>\n",
       "      <td>Ben-Hur</td>\n",
       "      <td>0.0</td>\n",
       "      <td>1959.0</td>\n",
       "      <td>212.0</td>\n",
       "      <td>G</td>\n",
       "      <td>Adventure</td>\n",
       "      <td>United States</td>\n",
       "      <td>8.1</td>\n",
       "      <td>233022.0</td>\n",
       "      <td>90.0</td>\n",
       "    </tr>\n",
       "    <tr>\n",
       "      <th>2</th>\n",
       "      <td>tt0055614</td>\n",
       "      <td>West Side Story</td>\n",
       "      <td>0.0</td>\n",
       "      <td>1961.0</td>\n",
       "      <td>153.0</td>\n",
       "      <td>Approved</td>\n",
       "      <td>Crime</td>\n",
       "      <td>United States</td>\n",
       "      <td>7.5</td>\n",
       "      <td>108909.0</td>\n",
       "      <td>86.0</td>\n",
       "    </tr>\n",
       "    <tr>\n",
       "      <th>3</th>\n",
       "      <td>tt0077413</td>\n",
       "      <td>Death on the Nile</td>\n",
       "      <td>0.0</td>\n",
       "      <td>1978.0</td>\n",
       "      <td>140.0</td>\n",
       "      <td>PG</td>\n",
       "      <td>Crime</td>\n",
       "      <td>United Kingdom</td>\n",
       "      <td>7.3</td>\n",
       "      <td>31457.0</td>\n",
       "      <td>59.0</td>\n",
       "    </tr>\n",
       "    <tr>\n",
       "      <th>4</th>\n",
       "      <td>tt0082198</td>\n",
       "      <td>Conan the Barbarian</td>\n",
       "      <td>0.0</td>\n",
       "      <td>1982.0</td>\n",
       "      <td>129.0</td>\n",
       "      <td>R</td>\n",
       "      <td>Action</td>\n",
       "      <td>United States</td>\n",
       "      <td>6.9</td>\n",
       "      <td>145470.0</td>\n",
       "      <td>43.0</td>\n",
       "    </tr>\n",
       "  </tbody>\n",
       "</table>\n",
       "</div>"
      ],
      "text/plain": [
       "          id                title  is_adult  release_year  runtime     rated  \\\n",
       "0  tt0033563                Dumbo       0.0        1941.0     64.0         G   \n",
       "1  tt0052618              Ben-Hur       0.0        1959.0    212.0         G   \n",
       "2  tt0055614      West Side Story       0.0        1961.0    153.0  Approved   \n",
       "3  tt0077413    Death on the Nile       0.0        1978.0    140.0        PG   \n",
       "4  tt0082198  Conan the Barbarian       0.0        1982.0    129.0         R   \n",
       "\n",
       "       genre         country  imdb_rating  imdb_votes  metascore  \n",
       "0  Animation   United States          7.2    128394.0       96.0  \n",
       "1  Adventure   United States          8.1    233022.0       90.0  \n",
       "2      Crime   United States          7.5    108909.0       86.0  \n",
       "3      Crime  United Kingdom          7.3     31457.0       59.0  \n",
       "4     Action   United States          6.9    145470.0       43.0  "
      ]
     },
     "execution_count": 15,
     "metadata": {},
     "output_type": "execute_result"
    }
   ],
   "source": [
    "# drop duplicated title column\n",
    "flat_api_combined = flat_api_combined.loc[:, ~flat_api_combined.columns.duplicated()]\n",
    "flat_api_combined.head()"
   ]
  },
  {
   "cell_type": "markdown",
   "id": "31334401-8995-48da-9d40-e52bed302092",
   "metadata": {
    "pycharm": {
     "name": "#%% md\n"
    }
   },
   "source": [
    "#### Join Final Data Using SQL and Pandas Merge Logic"
   ]
  },
  {
   "cell_type": "markdown",
   "id": "e03cab15-c36c-4047-adf5-db20bbddb5cc",
   "metadata": {
    "pycharm": {
     "name": "#%% md\n"
    }
   },
   "source": [
    "To join the final data from the webscraping milestone, I decided to first pull the data from the SQL database table into a new Pandas dataframe. I know this is probably redundnat as I already had a dataframe loaded from the previous milestone. However, I wanted to practice performing SQL functions using Python. Once I had the data from the SQL webscraping table, I used the `pd.merge` function to join the two dataframes on their respective `title` columns."
   ]
  },
  {
   "cell_type": "code",
   "execution_count": 16,
   "id": "6065a0bd-880b-45e3-9bb9-c40506c9eb03",
   "metadata": {
    "pycharm": {
     "name": "#%%\n"
    }
   },
   "outputs": [
    {
     "data": {
      "text/html": [
       "<div>\n",
       "<style scoped>\n",
       "    .dataframe tbody tr th:only-of-type {\n",
       "        vertical-align: middle;\n",
       "    }\n",
       "\n",
       "    .dataframe tbody tr th {\n",
       "        vertical-align: top;\n",
       "    }\n",
       "\n",
       "    .dataframe thead th {\n",
       "        text-align: right;\n",
       "    }\n",
       "</style>\n",
       "<table border=\"1\" class=\"dataframe\">\n",
       "  <thead>\n",
       "    <tr style=\"text-align: right;\">\n",
       "      <th></th>\n",
       "      <th>release_date</th>\n",
       "      <th>title</th>\n",
       "      <th>production_budget</th>\n",
       "      <th>domestic_gross</th>\n",
       "      <th>worldwide_gross</th>\n",
       "    </tr>\n",
       "  </thead>\n",
       "  <tbody>\n",
       "    <tr>\n",
       "      <th>0</th>\n",
       "      <td>Apr 23, 2019</td>\n",
       "      <td>Avengers: Endgame</td>\n",
       "      <td>400000000.0</td>\n",
       "      <td>858373000.0</td>\n",
       "      <td>2.797801e+09</td>\n",
       "    </tr>\n",
       "    <tr>\n",
       "      <th>1</th>\n",
       "      <td>May 20, 2011</td>\n",
       "      <td>Pirates of the Caribbean: On Stranger Tides</td>\n",
       "      <td>379000000.0</td>\n",
       "      <td>241071802.0</td>\n",
       "      <td>1.045714e+09</td>\n",
       "    </tr>\n",
       "    <tr>\n",
       "      <th>2</th>\n",
       "      <td>Apr 22, 2015</td>\n",
       "      <td>Avengers: Age of Ultron</td>\n",
       "      <td>365000000.0</td>\n",
       "      <td>459005868.0</td>\n",
       "      <td>1.395317e+09</td>\n",
       "    </tr>\n",
       "    <tr>\n",
       "      <th>3</th>\n",
       "      <td>Dec 16, 2015</td>\n",
       "      <td>Star Wars Ep. VII: The Force Awakens</td>\n",
       "      <td>306000000.0</td>\n",
       "      <td>936662225.0</td>\n",
       "      <td>2.064616e+09</td>\n",
       "    </tr>\n",
       "    <tr>\n",
       "      <th>4</th>\n",
       "      <td>Apr 25, 2018</td>\n",
       "      <td>Avengers: Infinity War</td>\n",
       "      <td>300000000.0</td>\n",
       "      <td>678815482.0</td>\n",
       "      <td>2.048360e+09</td>\n",
       "    </tr>\n",
       "  </tbody>\n",
       "</table>\n",
       "</div>"
      ],
      "text/plain": [
       "   release_date                                        title  \\\n",
       "0  Apr 23, 2019                            Avengers: Endgame   \n",
       "1  May 20, 2011  Pirates of the Caribbean: On Stranger Tides   \n",
       "2  Apr 22, 2015                      Avengers: Age of Ultron   \n",
       "3  Dec 16, 2015         Star Wars Ep. VII: The Force Awakens   \n",
       "4  Apr 25, 2018                       Avengers: Infinity War   \n",
       "\n",
       "   production_budget  domestic_gross  worldwide_gross  \n",
       "0        400000000.0     858373000.0     2.797801e+09  \n",
       "1        379000000.0     241071802.0     1.045714e+09  \n",
       "2        365000000.0     459005868.0     1.395317e+09  \n",
       "3        306000000.0     936662225.0     2.064616e+09  \n",
       "4        300000000.0     678815482.0     2.048360e+09  "
      ]
     },
     "execution_count": 16,
     "metadata": {},
     "output_type": "execute_result"
    }
   ],
   "source": [
    "# combine flat/api table with webscrape table on title\n",
    "webscrape_data_from_sql = pd.read_sql('SELECT * FROM website_scrape_data', con)\n",
    "webscrape_data_from_sql.head()"
   ]
  },
  {
   "cell_type": "code",
   "execution_count": 17,
   "id": "6b48cffe-9dba-4b52-a615-bb8ac4dcfbd9",
   "metadata": {
    "pycharm": {
     "name": "#%%\n"
    }
   },
   "outputs": [
    {
     "data": {
      "text/html": [
       "<div>\n",
       "<style scoped>\n",
       "    .dataframe tbody tr th:only-of-type {\n",
       "        vertical-align: middle;\n",
       "    }\n",
       "\n",
       "    .dataframe tbody tr th {\n",
       "        vertical-align: top;\n",
       "    }\n",
       "\n",
       "    .dataframe thead th {\n",
       "        text-align: right;\n",
       "    }\n",
       "</style>\n",
       "<table border=\"1\" class=\"dataframe\">\n",
       "  <thead>\n",
       "    <tr style=\"text-align: right;\">\n",
       "      <th></th>\n",
       "      <th>id</th>\n",
       "      <th>title</th>\n",
       "      <th>is_adult</th>\n",
       "      <th>release_year</th>\n",
       "      <th>runtime</th>\n",
       "      <th>rated</th>\n",
       "      <th>genre</th>\n",
       "      <th>country</th>\n",
       "      <th>imdb_rating</th>\n",
       "      <th>imdb_votes</th>\n",
       "      <th>metascore</th>\n",
       "      <th>release_date</th>\n",
       "      <th>production_budget</th>\n",
       "      <th>domestic_gross</th>\n",
       "      <th>worldwide_gross</th>\n",
       "    </tr>\n",
       "  </thead>\n",
       "  <tbody>\n",
       "    <tr>\n",
       "      <th>0</th>\n",
       "      <td>tt0033563</td>\n",
       "      <td>Dumbo</td>\n",
       "      <td>0.0</td>\n",
       "      <td>1941.0</td>\n",
       "      <td>64.0</td>\n",
       "      <td>G</td>\n",
       "      <td>Animation</td>\n",
       "      <td>United States</td>\n",
       "      <td>7.2</td>\n",
       "      <td>128394.0</td>\n",
       "      <td>96.0</td>\n",
       "      <td>Mar 27, 2019</td>\n",
       "      <td>170000000.0</td>\n",
       "      <td>114766307.0</td>\n",
       "      <td>353166307.0</td>\n",
       "    </tr>\n",
       "    <tr>\n",
       "      <th>1</th>\n",
       "      <td>tt0052618</td>\n",
       "      <td>Ben-Hur</td>\n",
       "      <td>0.0</td>\n",
       "      <td>1959.0</td>\n",
       "      <td>212.0</td>\n",
       "      <td>G</td>\n",
       "      <td>Adventure</td>\n",
       "      <td>United States</td>\n",
       "      <td>8.1</td>\n",
       "      <td>233022.0</td>\n",
       "      <td>90.0</td>\n",
       "      <td>Jun 30, 2016</td>\n",
       "      <td>95000000.0</td>\n",
       "      <td>26410477.0</td>\n",
       "      <td>91669648.0</td>\n",
       "    </tr>\n",
       "    <tr>\n",
       "      <th>2</th>\n",
       "      <td>tt0055614</td>\n",
       "      <td>West Side Story</td>\n",
       "      <td>0.0</td>\n",
       "      <td>1961.0</td>\n",
       "      <td>153.0</td>\n",
       "      <td>Approved</td>\n",
       "      <td>Crime</td>\n",
       "      <td>United States</td>\n",
       "      <td>7.5</td>\n",
       "      <td>108909.0</td>\n",
       "      <td>86.0</td>\n",
       "      <td>Dec 8, 2021</td>\n",
       "      <td>100000000.0</td>\n",
       "      <td>38147373.0</td>\n",
       "      <td>71540551.0</td>\n",
       "    </tr>\n",
       "    <tr>\n",
       "      <th>3</th>\n",
       "      <td>tt0077413</td>\n",
       "      <td>Death on the Nile</td>\n",
       "      <td>0.0</td>\n",
       "      <td>1978.0</td>\n",
       "      <td>140.0</td>\n",
       "      <td>PG</td>\n",
       "      <td>Crime</td>\n",
       "      <td>United Kingdom</td>\n",
       "      <td>7.3</td>\n",
       "      <td>31457.0</td>\n",
       "      <td>59.0</td>\n",
       "      <td>Feb 9, 2022</td>\n",
       "      <td>90000000.0</td>\n",
       "      <td>33665899.0</td>\n",
       "      <td>101984249.0</td>\n",
       "    </tr>\n",
       "    <tr>\n",
       "      <th>4</th>\n",
       "      <td>tt0082198</td>\n",
       "      <td>Conan the Barbarian</td>\n",
       "      <td>0.0</td>\n",
       "      <td>1982.0</td>\n",
       "      <td>129.0</td>\n",
       "      <td>R</td>\n",
       "      <td>Action</td>\n",
       "      <td>United States</td>\n",
       "      <td>6.9</td>\n",
       "      <td>145470.0</td>\n",
       "      <td>43.0</td>\n",
       "      <td>Aug 19, 2011</td>\n",
       "      <td>90000000.0</td>\n",
       "      <td>21295021.0</td>\n",
       "      <td>63356133.0</td>\n",
       "    </tr>\n",
       "  </tbody>\n",
       "</table>\n",
       "</div>"
      ],
      "text/plain": [
       "          id                title  is_adult  release_year  runtime     rated  \\\n",
       "0  tt0033563                Dumbo       0.0        1941.0     64.0         G   \n",
       "1  tt0052618              Ben-Hur       0.0        1959.0    212.0         G   \n",
       "2  tt0055614      West Side Story       0.0        1961.0    153.0  Approved   \n",
       "3  tt0077413    Death on the Nile       0.0        1978.0    140.0        PG   \n",
       "4  tt0082198  Conan the Barbarian       0.0        1982.0    129.0         R   \n",
       "\n",
       "       genre         country  imdb_rating  imdb_votes  metascore  \\\n",
       "0  Animation   United States          7.2    128394.0       96.0   \n",
       "1  Adventure   United States          8.1    233022.0       90.0   \n",
       "2      Crime   United States          7.5    108909.0       86.0   \n",
       "3      Crime  United Kingdom          7.3     31457.0       59.0   \n",
       "4     Action   United States          6.9    145470.0       43.0   \n",
       "\n",
       "   release_date  production_budget  domestic_gross  worldwide_gross  \n",
       "0  Mar 27, 2019        170000000.0     114766307.0      353166307.0  \n",
       "1  Jun 30, 2016         95000000.0      26410477.0       91669648.0  \n",
       "2   Dec 8, 2021        100000000.0      38147373.0       71540551.0  \n",
       "3   Feb 9, 2022         90000000.0      33665899.0      101984249.0  \n",
       "4  Aug 19, 2011         90000000.0      21295021.0       63356133.0  "
      ]
     },
     "execution_count": 17,
     "metadata": {},
     "output_type": "execute_result"
    }
   ],
   "source": [
    "# merge flat/api df with webscrape df\n",
    "all_tables_combined_df = flat_api_combined.merge(webscrape_data_from_sql, how='left', on='title')\n",
    "all_tables_combined_df.head()"
   ]
  },
  {
   "cell_type": "code",
   "execution_count": 18,
   "id": "0add8c12-c94c-436a-8e52-9be3fd68c299",
   "metadata": {
    "pycharm": {
     "name": "#%%\n"
    }
   },
   "outputs": [],
   "source": [
    "# drop redundant columns\n",
    "all_tables_combined_df.drop(['release_date'], axis=1, inplace=True)"
   ]
  },
  {
   "cell_type": "code",
   "execution_count": 19,
   "id": "91d265d8-0404-4c6c-92b0-0feaa24c75ef",
   "metadata": {
    "pycharm": {
     "name": "#%%\n"
    }
   },
   "outputs": [],
   "source": [
    "# release sqlite db connection\n",
    "con.close()"
   ]
  },
  {
   "cell_type": "markdown",
   "id": "4e5e1bb7-8b7c-439d-afa9-d5aeef79215c",
   "metadata": {
    "pycharm": {
     "name": "#%% md\n"
    }
   },
   "source": [
    "## Data Visualizations"
   ]
  },
  {
   "cell_type": "markdown",
   "id": "711cfa03-3e83-4fc6-bdfc-9c44c89051ca",
   "metadata": {
    "pycharm": {
     "name": "#%% md\n"
    }
   },
   "source": [
    "After reviewing the boxplots and histograms for each of the columns with missing values, it does seem like the data is quite skewed, particularly with regard to the worldwide_gross column. I feel that this is due to a disproportionate number of films having incredibly large amounts of box-office revenue. If I were just wanting to look at the production budgets, imputing with the mean would be more feasible as the data is less skewed and less likely to be impacted from outliers."
   ]
  },
  {
   "cell_type": "markdown",
   "id": "fee01e52-5770-4c33-9764-6a92e2f295bd",
   "metadata": {
    "pycharm": {
     "name": "#%% md\n"
    }
   },
   "source": [
    "#### Impute Missing Values Created During Merge"
   ]
  },
  {
   "cell_type": "code",
   "execution_count": 20,
   "id": "10ec06a1-146d-489f-a844-afbe2d600dd6",
   "metadata": {
    "pycharm": {
     "name": "#%%\n"
    }
   },
   "outputs": [
    {
     "data": {
      "text/plain": [
       "id                    0\n",
       "title                 0\n",
       "is_adult              0\n",
       "release_year          0\n",
       "runtime               0\n",
       "rated                 0\n",
       "genre                 0\n",
       "country               0\n",
       "imdb_rating           0\n",
       "imdb_votes            0\n",
       "metascore             0\n",
       "production_budget    52\n",
       "domestic_gross       52\n",
       "worldwide_gross      52\n",
       "dtype: int64"
      ]
     },
     "execution_count": 20,
     "metadata": {},
     "output_type": "execute_result"
    }
   ],
   "source": [
    "# check if null values were created during dataframe merges\n",
    "all_tables_combined_df.isnull().sum()"
   ]
  },
  {
   "cell_type": "code",
   "execution_count": 21,
   "id": "af6a1bec-90d8-43ab-930f-a74f31964a24",
   "metadata": {
    "pycharm": {
     "name": "#%%\n"
    }
   },
   "outputs": [
    {
     "data": {
      "text/plain": [
       "Text(0.5, 1.0, 'Boxplot of Movie Financial Columns')"
      ]
     },
     "execution_count": 21,
     "metadata": {},
     "output_type": "execute_result"
    },
    {
     "data": {
      "image/png": "[encoded data removed]",
      "text/plain": [
       "<Figure size 432x288 with 1 Axes>"
      ]
     },
     "metadata": {
      "needs_background": "light"
     },
     "output_type": "display_data"
    }
   ],
   "source": [
    "# check boxplot of columns with missing values to determine if mean imputation is feasible\n",
    "sns.boxplot(data=all_tables_combined_df[['production_budget', 'domestic_gross', 'worldwide_gross']])\n",
    "plt.title('Boxplot of Movie Financial Columns')"
   ]
  },
  {
   "cell_type": "code",
   "execution_count": 22,
   "id": "760fad32-abe5-4d56-a67c-91f4a5af809d",
   "metadata": {
    "pycharm": {
     "name": "#%%\n"
    }
   },
   "outputs": [
    {
     "data": {
      "text/plain": [
       "Text(0.5, 1.0, 'Histogram of Movie Financial Columns')"
      ]
     },
     "execution_count": 22,
     "metadata": {},
     "output_type": "execute_result"
    },
    {
     "data": {
      "text/plain": [
       "<Figure size 1080x1440 with 0 Axes>"
      ]
     },
     "metadata": {},
     "output_type": "display_data"
    },
    {
     "data": {
      "image/png": "[encoded data removed]",
      "text/plain": [
       "<Figure size 489.875x360 with 1 Axes>"
      ]
     },
     "metadata": {
      "needs_background": "light"
     },
     "output_type": "display_data"
    }
   ],
   "source": [
    "# check displot for columns with missing values to determine if mean imputation is feasible\n",
    "plt.figure(figsize=(15,20))\n",
    "sns.displot(data=all_tables_combined_df[['production_budget', 'domestic_gross', 'worldwide_gross']])\n",
    "plt.title('Histogram of Movie Financial Columns')"
   ]
  },
  {
   "cell_type": "markdown",
   "id": "13a6ad39-d4af-4d12-abc2-cfcda93317a4",
   "metadata": {
    "pycharm": {
     "name": "#%% md\n"
    }
   },
   "source": [
    "#### Metascore By Genre"
   ]
  },
  {
   "cell_type": "code",
   "execution_count": 23,
   "id": "c19bc072-3c92-47bb-b31f-f014ff3b13d1",
   "metadata": {
    "pycharm": {
     "name": "#%%\n"
    }
   },
   "outputs": [
    {
     "data": {
      "text/plain": [
       "Text(0.5, 1.0, 'Film Metascore By Genre')"
      ]
     },
     "execution_count": 23,
     "metadata": {},
     "output_type": "execute_result"
    },
    {
     "data": {
      "image/png": "[encoded data removed]",
      "text/plain": [
       "<Figure size 720x360 with 1 Axes>"
      ]
     },
     "metadata": {
      "needs_background": "light"
     },
     "output_type": "display_data"
    }
   ],
   "source": [
    "plt.figure(figsize=(10,5))\n",
    "sns.histplot(all_tables_combined_df, x='metascore', hue='genre', element='poly', stat='density', common_norm=False)\n",
    "plt.title('Film Metascore By Genre')"
   ]
  },
  {
   "cell_type": "markdown",
   "id": "b2b2617c-c2bf-4f4c-a9e9-36cfa4114f6f",
   "metadata": {
    "pycharm": {
     "name": "#%% md\n"
    }
   },
   "source": [
    "Observations: The genre with the highest density of successful (high metascore) appears to be animated films. I thought it was interesting to the the various spikes for the different genres across the range of the metascore metric. For instance, it seems there is quite a large amount of highly rated (score:~75) science-fiction films. However, there is also an additional spike in density for the same genre around a metascore of about 47. This made me laugh because I instantly thought about all of the b-movie science fiction films that are objectively terrible movies but are still adored by their respective fanbases."
   ]
  },
  {
   "cell_type": "code",
   "execution_count": 24,
   "id": "7be29c4d-b1d9-422f-b06f-86285062cfc7",
   "metadata": {
    "pycharm": {
     "name": "#%%\n"
    }
   },
   "outputs": [
    {
     "data": {
      "text/plain": [
       "Text(0.5, 1.0, 'Film Runtime vs. IMDB Rating')"
      ]
     },
     "execution_count": 24,
     "metadata": {},
     "output_type": "execute_result"
    },
    {
     "data": {
      "image/png": "[encoded data removed]",
      "text/plain": [
       "<Figure size 432x288 with 1 Axes>"
      ]
     },
     "metadata": {
      "needs_background": "light"
     },
     "output_type": "display_data"
    }
   ],
   "source": [
    "# imdb rating against runtime\n",
    "sns.regplot(data=all_tables_combined_df, x='runtime', y='imdb_rating', color='g', marker='+')\n",
    "plt.title('Film Runtime vs. IMDB Rating')"
   ]
  },
  {
   "cell_type": "markdown",
   "id": "914cfe98-29e6-44ae-9318-14d3918e1cd8",
   "metadata": {
    "pycharm": {
     "name": "#%% md\n"
    }
   },
   "source": [
    "Observations: From this visualization, there is a general trend that movies with longer total runtimes tend to have a higher rating on IMDB. There is quite a bit of variation, however, and this would need to be explored in order to determine what other factors contribute to the IMDB score. I decided to go with the `+` marker as it was a little easier to spot dense clusters of data points."
   ]
  },
  {
   "cell_type": "code",
   "execution_count": 25,
   "id": "27fdc925-5396-4661-867a-3cc31058c076",
   "metadata": {
    "pycharm": {
     "name": "#%%\n"
    }
   },
   "outputs": [
    {
     "data": {
      "text/plain": [
       "Text(0.5, 1.0, 'Film Worldwide Earning Across The Years')"
      ]
     },
     "execution_count": 25,
     "metadata": {},
     "output_type": "execute_result"
    },
    {
     "data": {
      "image/png": "[encoded data removed]",
      "text/plain": [
       "<Figure size 432x288 with 1 Axes>"
      ]
     },
     "metadata": {
      "needs_background": "light"
     },
     "output_type": "display_data"
    }
   ],
   "source": [
    "sns.regplot(data=all_tables_combined_df, x='release_year', y='worldwide_gross')\n",
    "plt.title('Film Worldwide Earning Across The Years')"
   ]
  },
  {
   "cell_type": "markdown",
   "id": "78aa9370-bc12-49bb-8986-b5f1ad862326",
   "metadata": {
    "pycharm": {
     "name": "#%% md\n"
    }
   },
   "source": [
    "Observations: As expected, there is a general trend that over the history of cinema, films have been earning more and more at the box-office."
   ]
  },
  {
   "cell_type": "code",
   "execution_count": 26,
   "id": "1af5d261-6bc5-4a7a-9941-aa8b577cc798",
   "metadata": {
    "pycharm": {
     "name": "#%%\n"
    }
   },
   "outputs": [
    {
     "data": {
      "text/plain": [
       "(336, 14)"
      ]
     },
     "execution_count": 26,
     "metadata": {},
     "output_type": "execute_result"
    }
   ],
   "source": [
    "# filter for movies released between 2010 and 2021\n",
    "recent_movies = all_tables_combined_df[(all_tables_combined_df['release_year'] <= 2021.0) &\n",
    "                                      (all_tables_combined_df['release_year'] >= 2010.0)]\n",
    "recent_movies.shape"
   ]
  },
  {
   "cell_type": "code",
   "execution_count": 27,
   "id": "948f4369-2945-4200-b1e8-7905dd240c2a",
   "metadata": {
    "pycharm": {
     "name": "#%%\n"
    }
   },
   "outputs": [
    {
     "data": {
      "text/plain": [
       "<AxesSubplot:xlabel='release_year', ylabel='worldwide_gross'>"
      ]
     },
     "execution_count": 27,
     "metadata": {},
     "output_type": "execute_result"
    },
    {
     "data": {
      "image/png": "[encoded data removed]",
      "text/plain": [
       "<Figure size 432x288 with 1 Axes>"
      ]
     },
     "metadata": {
      "needs_background": "light"
     },
     "output_type": "display_data"
    }
   ],
   "source": [
    "# replot regplot\n",
    "sns.regplot(data=recent_movies, x='release_year', y='worldwide_gross',\n",
    "           scatter_kws={'color':'purple'}, line_kws={'color':'black'})"
   ]
  },
  {
   "cell_type": "markdown",
   "id": "866732b8-9bec-41bd-b789-f86d3c5f518f",
   "metadata": {
    "pycharm": {
     "name": "#%% md\n"
    }
   },
   "source": [
    "I wanted to get a bit more granular on this one and see if I could idenitfy a dip in worldwide earnings as caused the pandemic. I first filtered my dataframe to only include recent movies (released within the past decade). Then, I replotted a regplot against the release year and worldwide earnings. It was quite clear that during 2020, the worldwide earning were all below the fitted replot line, which would have been caused by less theater attendance due to closures during the pandemic."
   ]
  },
  {
   "cell_type": "markdown",
   "id": "5fadb5f1-bb42-4d90-8e68-632e0bcfe2cc",
   "metadata": {
    "pycharm": {
     "name": "#%% md\n"
    }
   },
   "source": [
    "#### Countplot Of Movies By Genre"
   ]
  },
  {
   "cell_type": "code",
   "execution_count": 28,
   "id": "e8107b19-3148-4154-9b95-8c418058dad7",
   "metadata": {
    "pycharm": {
     "name": "#%%\n"
    }
   },
   "outputs": [
    {
     "data": {
      "text/plain": [
       "Text(0.5, 1.0, 'Amount Of Films Produced By Genre')"
      ]
     },
     "execution_count": 28,
     "metadata": {},
     "output_type": "execute_result"
    },
    {
     "data": {
      "image/png": "[encoded data removed]",
      "text/plain": [
       "<Figure size 1080x360 with 1 Axes>"
      ]
     },
     "metadata": {
      "needs_background": "light"
     },
     "output_type": "display_data"
    }
   ],
   "source": [
    "# display countplot to see which genres have been produced the most\n",
    "plt.figure(figsize=(15,5))\n",
    "ax = sns.countplot(x='genre', data=all_tables_combined_df, order=all_tables_combined_df['genre'].value_counts().index)\n",
    "plt.title('Amount Of Films Produced By Genre')"
   ]
  },
  {
   "cell_type": "markdown",
   "id": "6a1a0bb4-0c87-4d00-92f9-47f9442f41b3",
   "metadata": {
    "pycharm": {
     "name": "#%% md\n"
    }
   },
   "source": [
    "Observations: The action genre is by far the most popular type of movie that has been produced. I was surprised to see that the second most produced genre was animated movies. It should also be noted that during a previous milestone step, I extracted only one genre if there were multiple genres for each individual film. The results would likely be much different if I was able to figure out an approach to create more unique, mixed-style genre labels."
   ]
  },
  {
   "cell_type": "markdown",
   "id": "f5a576e3-ff27-431e-9f5a-fac69a90e95d",
   "metadata": {
    "pycharm": {
     "name": "#%% md\n"
    }
   },
   "source": [
    "#### Countplot Of Movies By Rating"
   ]
  },
  {
   "cell_type": "markdown",
   "id": "b20d281a-09ef-4027-bebb-fa3463785e1b",
   "metadata": {
    "pycharm": {
     "name": "#%% md\n"
    }
   },
   "source": [
    "I was also curious to see similar count information for the movies by their ratings (e.g., G, PG, PG-13...)"
   ]
  },
  {
   "cell_type": "code",
   "execution_count": 29,
   "id": "a7591587-f7bb-4818-af6e-17aedb7cf13f",
   "metadata": {
    "pycharm": {
     "name": "#%%\n"
    }
   },
   "outputs": [
    {
     "data": {
      "image/png": "[encoded data removed]",
      "text/plain": [
       "<Figure size 432x288 with 1 Axes>"
      ]
     },
     "metadata": {
      "needs_background": "light"
     },
     "output_type": "display_data"
    }
   ],
   "source": [
    "# display countplot of genres to see which ones have been produced the most\n",
    "ax = sns.countplot(x='rated', data=all_tables_combined_df, order=all_tables_combined_df['rated'].value_counts().index)"
   ]
  },
  {
   "cell_type": "markdown",
   "id": "3c717ccb-4f7b-44f3-8336-9fe951d408d8",
   "metadata": {
    "pycharm": {
     "name": "#%% md\n"
    }
   },
   "source": [
    "Observations: I was not surprised to see that most of the movies were rated PG-13 as this is the most accessible rating. With that, I mean that PG-13 rated films are likely to see more movie goers, as parents are less likely to bring their children to see rated R films. I was surprised to see that the least amount of films are rated G. However, that is likely due to the reverse of my first logic in that movies that are rated G attract less movie goers and thus be less profitable and appealing to film makers."
   ]
  },
  {
   "cell_type": "markdown",
   "id": "bc0194e6-ae34-407d-9c46-a936562c820e",
   "metadata": {
    "pycharm": {
     "name": "#%% md\n"
    }
   },
   "source": [
    "## Project Write-up: Lessons Learned"
   ]
  },
  {
   "cell_type": "markdown",
   "id": "79573514-9faf-471b-a343-ccc11bd80e98",
   "metadata": {
    "pycharm": {
     "name": "#%% md\n"
    }
   },
   "source": [
    "I must say that this project has been a wild ride. I was able to find a topic that I was interested in exploring pretty early on. I had done some basic exploring of IMDb data before starting this course. I have always been curious about what factors contribute most to whether a movie will be successful. Of course, blockbusters like the Avengers or movies from popular directors will usually draw big box-office numbers. However, I was more interested in seeing if I could identify any underlying trends for other metrics.\n",
    "\n",
    "I was able to find a rather large .tsv file that housed movie data from IMDb. The people who curated the IMDb data files wound up splitting them into a few different files. For this reason, I did have to combine two of the files together, but this was easy enough using the merge() function built-in with the Pandas package. I did wind up filtering the data to only include information about movies; it came with data for TV shows, which I was not as interested in exploring. During this step, I started to get comfortable with the common data cleaning steps.\n",
    "\n",
    "I think I was a little too confident after working with the flat-file data because the web scraping milestone gave me much trouble. Working through the BeautifulSoup assignment from the book did not prepare me for the work required for this step. I wound up having to scour quite a few guides and YouTube videos. However, after getting my cleaned dataset at the end of milestone three, I must say that the power enabled by bs4 is incredible. \n",
    "\n",
    "I learned so much during this step, not just handling Pandas data but also general steps to working with data across the Internet (e.g., handling HTTP errors and adding headers to URL requests). I am so thankful for the immense number of helpful coders both in this program and online. Without their help and troubleshooting efforts, I do not believe I would have gotten this part of the project accomplished.\n",
    "\n",
    "I initially wanted to work with the official IMDb API endpoints for the API milestone. However, after requesting access a few times (they had me re-submit my applications twice), I was denied access to their free API endpoint. Fortunately, during one of the weeks where we learned about making API requests, the textbook referenced OMDb’s API, which was a godsend for this project section. I wound up using some of the logic from the chapter, but I had to tweak it quite a bit for my project’s needs.\n",
    "\n",
    "The final step involving databases went rather smoothly. I have used SQL quite a bit, and the Python syntax for sqlite3 was very easy to pick up. It was also easy for me to join the data from my three data sources, as two of them housed the same IMDb identification number, and I joined the last dataframe on matching movie titles. Also, it was nice to expand further my understanding of the Seaborn library for the visualization requirements. That library always impresses me with how simple the code creates pleasing visualizations.\n",
    "\n",
    "Overall, I enjoyed working on this project. It might have had me banging my head against the wall a few nights, but I feel that I gained so much useful experience working through each milestone. I am looking forward to further increasing my skills in future projects!\n"
   ]
  }
 ],
 "metadata": {
  "kernelspec": {
   "display_name": "Python 3",
   "language": "python",
   "name": "python3"
  },
  "language_info": {
   "codemirror_mode": {
    "name": "ipython",
    "version": 3
   },
   "file_extension": ".py",
   "mimetype": "text/x-python",
   "name": "python",
   "nbconvert_exporter": "python",
   "pygments_lexer": "ipython3",
   "version": "3.8.8"
  }
 },
 "nbformat": 4,
 "nbformat_minor": 5
}